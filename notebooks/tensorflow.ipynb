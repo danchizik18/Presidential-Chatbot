{
 "cells": [
  {
   "cell_type": "code",
   "execution_count": 29,
   "metadata": {},
   "outputs": [],
   "source": [
    "import tensorflow as tf\n",
    "from tensorflow.keras.models import Sequential\n",
    "from tensorflow.keras.layers import Embedding, LSTM, Dense, Dropout, Bidirectional\n",
    "from tensorflow.keras.preprocessing.text import Tokenizer\n",
    "from tensorflow.keras.preprocessing.sequence import pad_sequences\n",
    "from sklearn.model_selection import train_test_split\n",
    "from sklearn.preprocessing import LabelEncoder\n",
    "import re\n",
    "import string\n",
    "import matplotlib.pyplot as plt"
   ]
  },
  {
   "cell_type": "code",
   "execution_count": 3,
   "metadata": {},
   "outputs": [
    {
     "name": "stdout",
     "output_type": "stream",
     "text": [
      "Total examples: 224\n"
     ]
    }
   ],
   "source": [
    "import os\n",
    "\n",
    "data_folder = '../data'  \n",
    "presidents = ['teddy', 'washington', 'adams', 'jefferson', 'madison', 'lincoln', 'FDR']\n",
    "\n",
    "data = []\n",
    "\n",
    "# Loop through each president folder and read the text files\n",
    "for president in presidents:\n",
    "    president_folder = os.path.join(data_folder, president)  \n",
    "    for filename in os.listdir(president_folder):\n",
    "        if filename.endswith('.txt'):  \n",
    "            file_path = os.path.join(president_folder, filename)\n",
    "            with open(file_path, 'r', encoding='utf-8') as file:\n",
    "                text = file.read()\n",
    "                data.append((text, president)) \n",
    "\n",
    "print(f\"Total examples: {len(data)}\")\n"
   ]
  },
  {
   "cell_type": "code",
   "execution_count": 4,
   "metadata": {},
   "outputs": [
    {
     "name": "stdout",
     "output_type": "stream",
     "text": [
      "\n",
      "Number of files per president:\n",
      "teddy: 23\n",
      "washington: 29\n",
      "adams: 16\n",
      "jefferson: 56\n",
      "madison: 29\n",
      "lincoln: 43\n",
      "FDR: 28\n",
      "\n",
      "Number of words per president:\n",
      "teddy: 47453\n",
      "washington: 29253\n",
      "adams: 15552\n",
      "jefferson: 171449\n",
      "madison: 65994\n",
      "lincoln: 50596\n",
      "FDR: 55354\n"
     ]
    }
   ],
   "source": [
    "file_counts = {}\n",
    "word_counts = {}\n",
    "\n",
    "for president in presidents:\n",
    "    president_folder = os.path.join(data_folder, president)  \n",
    "    file_counts[president] = 0\n",
    "    word_counts[president] = 0\n",
    "\n",
    "    for filename in os.listdir(president_folder):\n",
    "        if filename.endswith('.txt'):\n",
    "            file_counts[president] += 1\n",
    "\n",
    "            file_path = os.path.join(president_folder, filename)\n",
    "            with open(file_path, 'r', encoding='utf-8') as file:\n",
    "                text = file.read()\n",
    "                word_counts[president] += len(text.split())\n",
    "\n",
    "print(\"\\nNumber of files per president:\")\n",
    "for president, count in file_counts.items():\n",
    "    print(f\"{president}: {count}\")\n",
    "\n",
    "print(\"\\nNumber of words per president:\")\n",
    "for president, count in word_counts.items():\n",
    "    print(f\"{president}: {count}\")\n"
   ]
  },
  {
   "cell_type": "code",
   "execution_count": 5,
   "metadata": {},
   "outputs": [],
   "source": [
    "def clean_text(text):\n",
    "    text = re.sub(f\"[{string.punctuation}]\", \"\", text)\n",
    "    text = ' '.join(text.split())\n",
    "    text = text.lower()\n",
    "    return text"
   ]
  },
  {
   "cell_type": "code",
   "execution_count": 6,
   "metadata": {},
   "outputs": [],
   "source": [
    "texts, labels = zip(*data)  \n",
    "cleaned_texts = [clean_text(text) for text in texts]"
   ]
  },
  {
   "cell_type": "markdown",
   "metadata": {},
   "source": [
    "# Tokenizing the data"
   ]
  },
  {
   "cell_type": "code",
   "execution_count": 7,
   "metadata": {},
   "outputs": [
    {
     "name": "stdout",
     "output_type": "stream",
     "text": [
      "Training data: 179 examples\n",
      "Testing data: 45 examples\n"
     ]
    }
   ],
   "source": [
    "tokenizer = Tokenizer(num_words=10000)  \n",
    "tokenizer.fit_on_texts(cleaned_texts)\n",
    "\n",
    "X_seq = tokenizer.texts_to_sequences(cleaned_texts)\n",
    "\n",
    "max_length = 200  \n",
    "X_pad = pad_sequences(X_seq, maxlen=max_length, padding='post', truncating='post')\n",
    "\n",
    "label_encoder = LabelEncoder()\n",
    "y_encoded = label_encoder.fit_transform(labels)  \n",
    "\n",
    "X_train, X_test, y_train, y_test = train_test_split(X_pad, y_encoded, test_size=0.2, random_state=42)\n",
    "\n",
    "print(f\"Training data: {len(X_train)} examples\")\n",
    "print(f\"Testing data: {len(X_test)} examples\")\n"
   ]
  },
  {
   "cell_type": "markdown",
   "metadata": {},
   "source": [
    "# Building the Tensorflow deep learning model"
   ]
  },
  {
   "cell_type": "code",
   "execution_count": 16,
   "metadata": {},
   "outputs": [
    {
     "name": "stderr",
     "output_type": "stream",
     "text": [
      "/Users/danchizik/Desktop/president-chatbot/myenv/lib/python3.11/site-packages/keras/src/layers/core/embedding.py:90: UserWarning: Argument `input_length` is deprecated. Just remove it.\n",
      "  warnings.warn(\n"
     ]
    },
    {
     "data": {
      "text/html": [
       "<pre style=\"white-space:pre;overflow-x:auto;line-height:normal;font-family:Menlo,'DejaVu Sans Mono',consolas,'Courier New',monospace\"><span style=\"font-weight: bold\">Model: \"sequential_8\"</span>\n",
       "</pre>\n"
      ],
      "text/plain": [
       "\u001b[1mModel: \"sequential_8\"\u001b[0m\n"
      ]
     },
     "metadata": {},
     "output_type": "display_data"
    },
    {
     "data": {
      "text/html": [
       "<pre style=\"white-space:pre;overflow-x:auto;line-height:normal;font-family:Menlo,'DejaVu Sans Mono',consolas,'Courier New',monospace\">┏━━━━━━━━━━━━━━━━━━━━━━━━━━━━━━━━━┳━━━━━━━━━━━━━━━━━━━━━━━━┳━━━━━━━━━━━━━━━┓\n",
       "┃<span style=\"font-weight: bold\"> Layer (type)                    </span>┃<span style=\"font-weight: bold\"> Output Shape           </span>┃<span style=\"font-weight: bold\">       Param # </span>┃\n",
       "┡━━━━━━━━━━━━━━━━━━━━━━━━━━━━━━━━━╇━━━━━━━━━━━━━━━━━━━━━━━━╇━━━━━━━━━━━━━━━┩\n",
       "│ embedding_8 (<span style=\"color: #0087ff; text-decoration-color: #0087ff\">Embedding</span>)         │ (<span style=\"color: #00af00; text-decoration-color: #00af00\">1</span>, <span style=\"color: #00af00; text-decoration-color: #00af00\">200</span>, <span style=\"color: #00af00; text-decoration-color: #00af00\">128</span>)          │     <span style=\"color: #00af00; text-decoration-color: #00af00\">2,639,104</span> │\n",
       "├─────────────────────────────────┼────────────────────────┼───────────────┤\n",
       "│ lstm_8 (<span style=\"color: #0087ff; text-decoration-color: #0087ff\">LSTM</span>)                   │ (<span style=\"color: #00af00; text-decoration-color: #00af00\">1</span>, <span style=\"color: #00af00; text-decoration-color: #00af00\">100</span>)               │        <span style=\"color: #00af00; text-decoration-color: #00af00\">91,600</span> │\n",
       "├─────────────────────────────────┼────────────────────────┼───────────────┤\n",
       "│ dense_8 (<span style=\"color: #0087ff; text-decoration-color: #0087ff\">Dense</span>)                 │ (<span style=\"color: #00af00; text-decoration-color: #00af00\">1</span>, <span style=\"color: #00af00; text-decoration-color: #00af00\">7</span>)                 │           <span style=\"color: #00af00; text-decoration-color: #00af00\">707</span> │\n",
       "└─────────────────────────────────┴────────────────────────┴───────────────┘\n",
       "</pre>\n"
      ],
      "text/plain": [
       "┏━━━━━━━━━━━━━━━━━━━━━━━━━━━━━━━━━┳━━━━━━━━━━━━━━━━━━━━━━━━┳━━━━━━━━━━━━━━━┓\n",
       "┃\u001b[1m \u001b[0m\u001b[1mLayer (type)                   \u001b[0m\u001b[1m \u001b[0m┃\u001b[1m \u001b[0m\u001b[1mOutput Shape          \u001b[0m\u001b[1m \u001b[0m┃\u001b[1m \u001b[0m\u001b[1m      Param #\u001b[0m\u001b[1m \u001b[0m┃\n",
       "┡━━━━━━━━━━━━━━━━━━━━━━━━━━━━━━━━━╇━━━━━━━━━━━━━━━━━━━━━━━━╇━━━━━━━━━━━━━━━┩\n",
       "│ embedding_8 (\u001b[38;5;33mEmbedding\u001b[0m)         │ (\u001b[38;5;34m1\u001b[0m, \u001b[38;5;34m200\u001b[0m, \u001b[38;5;34m128\u001b[0m)          │     \u001b[38;5;34m2,639,104\u001b[0m │\n",
       "├─────────────────────────────────┼────────────────────────┼───────────────┤\n",
       "│ lstm_8 (\u001b[38;5;33mLSTM\u001b[0m)                   │ (\u001b[38;5;34m1\u001b[0m, \u001b[38;5;34m100\u001b[0m)               │        \u001b[38;5;34m91,600\u001b[0m │\n",
       "├─────────────────────────────────┼────────────────────────┼───────────────┤\n",
       "│ dense_8 (\u001b[38;5;33mDense\u001b[0m)                 │ (\u001b[38;5;34m1\u001b[0m, \u001b[38;5;34m7\u001b[0m)                 │           \u001b[38;5;34m707\u001b[0m │\n",
       "└─────────────────────────────────┴────────────────────────┴───────────────┘\n"
      ]
     },
     "metadata": {},
     "output_type": "display_data"
    },
    {
     "data": {
      "text/html": [
       "<pre style=\"white-space:pre;overflow-x:auto;line-height:normal;font-family:Menlo,'DejaVu Sans Mono',consolas,'Courier New',monospace\"><span style=\"font-weight: bold\"> Total params: </span><span style=\"color: #00af00; text-decoration-color: #00af00\">2,731,411</span> (10.42 MB)\n",
       "</pre>\n"
      ],
      "text/plain": [
       "\u001b[1m Total params: \u001b[0m\u001b[38;5;34m2,731,411\u001b[0m (10.42 MB)\n"
      ]
     },
     "metadata": {},
     "output_type": "display_data"
    },
    {
     "data": {
      "text/html": [
       "<pre style=\"white-space:pre;overflow-x:auto;line-height:normal;font-family:Menlo,'DejaVu Sans Mono',consolas,'Courier New',monospace\"><span style=\"font-weight: bold\"> Trainable params: </span><span style=\"color: #00af00; text-decoration-color: #00af00\">2,731,411</span> (10.42 MB)\n",
       "</pre>\n"
      ],
      "text/plain": [
       "\u001b[1m Trainable params: \u001b[0m\u001b[38;5;34m2,731,411\u001b[0m (10.42 MB)\n"
      ]
     },
     "metadata": {},
     "output_type": "display_data"
    },
    {
     "data": {
      "text/html": [
       "<pre style=\"white-space:pre;overflow-x:auto;line-height:normal;font-family:Menlo,'DejaVu Sans Mono',consolas,'Courier New',monospace\"><span style=\"font-weight: bold\"> Non-trainable params: </span><span style=\"color: #00af00; text-decoration-color: #00af00\">0</span> (0.00 B)\n",
       "</pre>\n"
      ],
      "text/plain": [
       "\u001b[1m Non-trainable params: \u001b[0m\u001b[38;5;34m0\u001b[0m (0.00 B)\n"
      ]
     },
     "metadata": {},
     "output_type": "display_data"
    }
   ],
   "source": [
    "model = Sequential()\n",
    "\n",
    "vocab_size = len(tokenizer.word_index) + 1\n",
    "model.add(Embedding(input_dim=vocab_size, output_dim=128, input_length=max_length))\n",
    "model.add(LSTM(100, dropout=0.2, recurrent_dropout=0.2))\n",
    "model.add(Dense(len(presidents), activation='softmax'))  \n",
    "\n",
    "model.compile(loss='sparse_categorical_crossentropy', \n",
    "              optimizer='adam',\n",
    "              metrics=['accuracy'])\n",
    "\n",
    "\n",
    "dummy_input = tf.random.uniform((1, max_length), minval=0, maxval=vocab_size, dtype=tf.int32)\n",
    "\n",
    "model(dummy_input)\n",
    "model.summary()"
   ]
  },
  {
   "cell_type": "markdown",
   "metadata": {},
   "source": [
    "# Training the model"
   ]
  },
  {
   "cell_type": "code",
   "execution_count": 17,
   "metadata": {},
   "outputs": [
    {
     "name": "stdout",
     "output_type": "stream",
     "text": [
      "Epoch 1/5\n",
      "\u001b[1m6/6\u001b[0m \u001b[32m━━━━━━━━━━━━━━━━━━━━\u001b[0m\u001b[37m\u001b[0m \u001b[1m3s\u001b[0m 251ms/step - accuracy: 0.1738 - loss: 1.9448 - val_accuracy: 0.3333 - val_loss: 1.9300\n",
      "Epoch 2/5\n",
      "\u001b[1m6/6\u001b[0m \u001b[32m━━━━━━━━━━━━━━━━━━━━\u001b[0m\u001b[37m\u001b[0m \u001b[1m1s\u001b[0m 207ms/step - accuracy: 0.3571 - loss: 1.9157 - val_accuracy: 0.3556 - val_loss: 1.9009\n",
      "Epoch 3/5\n",
      "\u001b[1m6/6\u001b[0m \u001b[32m━━━━━━━━━━━━━━━━━━━━\u001b[0m\u001b[37m\u001b[0m \u001b[1m1s\u001b[0m 196ms/step - accuracy: 0.3098 - loss: 1.8698 - val_accuracy: 0.3556 - val_loss: 1.8111\n",
      "Epoch 4/5\n",
      "\u001b[1m6/6\u001b[0m \u001b[32m━━━━━━━━━━━━━━━━━━━━\u001b[0m\u001b[37m\u001b[0m \u001b[1m2s\u001b[0m 295ms/step - accuracy: 0.2931 - loss: 1.8015 - val_accuracy: 0.3556 - val_loss: 1.8471\n",
      "Epoch 5/5\n",
      "\u001b[1m6/6\u001b[0m \u001b[32m━━━━━━━━━━━━━━━━━━━━\u001b[0m\u001b[37m\u001b[0m \u001b[1m1s\u001b[0m 224ms/step - accuracy: 0.2844 - loss: 1.7592 - val_accuracy: 0.3556 - val_loss: 1.8533\n"
     ]
    }
   ],
   "source": [
    "history = model.fit(X_train, y_train,\n",
    "                    epochs=5, \n",
    "                    batch_size=32,  \n",
    "                    validation_data=(X_test, y_test))  "
   ]
  },
  {
   "cell_type": "markdown",
   "metadata": {},
   "source": [
    "# Evaluating accuracy"
   ]
  },
  {
   "cell_type": "code",
   "execution_count": 18,
   "metadata": {},
   "outputs": [
    {
     "name": "stdout",
     "output_type": "stream",
     "text": [
      "2/2 - 0s - 45ms/step - accuracy: 0.3556 - loss: 1.8533\n",
      "Test accuracy: 0.35555556416511536\n"
     ]
    }
   ],
   "source": [
    "test_loss, test_acc = model.evaluate(X_test, y_test, verbose=2)\n",
    "print(f\"Test accuracy: {test_acc}\")\n"
   ]
  },
  {
   "cell_type": "markdown",
   "metadata": {},
   "source": [
    "# Matplotlib to visualize validation loss and accuracy"
   ]
  },
  {
   "cell_type": "markdown",
   "metadata": {},
   "source": [
    "### 1. Accuracy"
   ]
  },
  {
   "cell_type": "code",
   "execution_count": 21,
   "metadata": {},
   "outputs": [
    {
     "data": {
      "image/png": "[encoded data removed]",
      "text/plain": [
       "<Figure size 640x480 with 1 Axes>"
      ]
     },
     "metadata": {},
     "output_type": "display_data"
    }
   ],
   "source": [
    "plt.plot(history.history['accuracy'])\n",
    "plt.plot(history.history['val_accuracy'])\n",
    "plt.title('Model accuracy')\n",
    "plt.xlabel('Epoch')\n",
    "plt.ylabel('Accuracy')\n",
    "plt.legend(['Train', 'Test'], loc='upper left')\n",
    "plt.show()"
   ]
  },
  {
   "cell_type": "markdown",
   "metadata": {},
   "source": [
    "### 2. Loss"
   ]
  },
  {
   "cell_type": "code",
   "execution_count": 22,
   "metadata": {},
   "outputs": [
    {
     "data": {
      "image/png": "[encoded data removed]",
      "text/plain": [
       "<Figure size 640x480 with 1 Axes>"
      ]
     },
     "metadata": {},
     "output_type": "display_data"
    }
   ],
   "source": [
    "plt.plot(history.history['loss'])\n",
    "plt.plot(history.history['val_loss'])\n",
    "plt.title('Model loss')\n",
    "plt.xlabel('Epoch')\n",
    "plt.ylabel('Loss')\n",
    "plt.legend(['Train', 'Test'], loc='upper left')\n",
    "plt.show()"
   ]
  },
  {
   "cell_type": "code",
   "execution_count": null,
   "metadata": {},
   "outputs": [],
   "source": []
  },
  {
   "cell_type": "markdown",
   "metadata": {},
   "source": [
    "### Results: accuracy: 0.3556  ; loss: 1.8533 ; Test accuracy: 0.35555556416511536\n"
   ]
  },
  {
   "cell_type": "markdown",
   "metadata": {},
   "source": []
  },
  {
   "cell_type": "markdown",
   "metadata": {},
   "source": [
    "# Trial #2: Improving the Model"
   ]
  },
  {
   "cell_type": "markdown",
   "metadata": {},
   "source": [
    "### Using early stopping (prevents overfitting)"
   ]
  },
  {
   "cell_type": "code",
   "execution_count": 51,
   "metadata": {},
   "outputs": [],
   "source": [
    "from tensorflow.keras.callbacks import EarlyStopping\n",
    "from tensorflow.keras.optimizers import Adam"
   ]
  },
  {
   "cell_type": "code",
   "execution_count": 32,
   "metadata": {},
   "outputs": [],
   "source": [
    "max_length = 2000\n",
    "vocab_size = len(tokenizer.word_index) + 1 \n",
    "embedding_dim = 256 \n",
    "lstm_units = 200 \n",
    "dropout_rate = 0.3  \n",
    "recurrent_dropout_rate = 0.3  \n",
    "epochs = 20  \n",
    "batch_size = 32 \n",
    "early_stopping = EarlyStopping(monitor='val_loss', patience=3, restore_best_weights=True)"
   ]
  },
  {
   "cell_type": "markdown",
   "metadata": {},
   "source": [
    "# Building the model"
   ]
  },
  {
   "cell_type": "code",
   "execution_count": 33,
   "metadata": {},
   "outputs": [],
   "source": [
    "model = Sequential()\n",
    "\n",
    "model.add(Embedding(input_dim=vocab_size, output_dim=embedding_dim, input_length=max_length))\n",
    "\n",
    "model.add(Bidirectional(LSTM(lstm_units, dropout=dropout_rate, recurrent_dropout=recurrent_dropout_rate)))\n",
    "\n",
    "model.add(Dense(256, activation='relu'))\n",
    "model.add(Dropout(0.5))  \n",
    "\n",
    "\n",
    "model.add(Dense(len(presidents), activation='softmax'))  "
   ]
  },
  {
   "cell_type": "markdown",
   "metadata": {},
   "source": [
    "# Compiling the model"
   ]
  },
  {
   "cell_type": "code",
   "execution_count": 34,
   "metadata": {},
   "outputs": [
    {
     "data": {
      "text/html": [
       "<pre style=\"white-space:pre;overflow-x:auto;line-height:normal;font-family:Menlo,'DejaVu Sans Mono',consolas,'Courier New',monospace\"><span style=\"font-weight: bold\">Model: \"sequential_11\"</span>\n",
       "</pre>\n"
      ],
      "text/plain": [
       "\u001b[1mModel: \"sequential_11\"\u001b[0m\n"
      ]
     },
     "metadata": {},
     "output_type": "display_data"
    },
    {
     "data": {
      "text/html": [
       "<pre style=\"white-space:pre;overflow-x:auto;line-height:normal;font-family:Menlo,'DejaVu Sans Mono',consolas,'Courier New',monospace\">┏━━━━━━━━━━━━━━━━━━━━━━━━━━━━━━━━━┳━━━━━━━━━━━━━━━━━━━━━━━━┳━━━━━━━━━━━━━━━┓\n",
       "┃<span style=\"font-weight: bold\"> Layer (type)                    </span>┃<span style=\"font-weight: bold\"> Output Shape           </span>┃<span style=\"font-weight: bold\">       Param # </span>┃\n",
       "┡━━━━━━━━━━━━━━━━━━━━━━━━━━━━━━━━━╇━━━━━━━━━━━━━━━━━━━━━━━━╇━━━━━━━━━━━━━━━┩\n",
       "│ embedding_11 (<span style=\"color: #0087ff; text-decoration-color: #0087ff\">Embedding</span>)        │ (<span style=\"color: #00af00; text-decoration-color: #00af00\">1</span>, <span style=\"color: #00af00; text-decoration-color: #00af00\">2000</span>, <span style=\"color: #00af00; text-decoration-color: #00af00\">256</span>)         │     <span style=\"color: #00af00; text-decoration-color: #00af00\">5,278,208</span> │\n",
       "├─────────────────────────────────┼────────────────────────┼───────────────┤\n",
       "│ bidirectional_1 (<span style=\"color: #0087ff; text-decoration-color: #0087ff\">Bidirectional</span>) │ (<span style=\"color: #00af00; text-decoration-color: #00af00\">1</span>, <span style=\"color: #00af00; text-decoration-color: #00af00\">400</span>)               │       <span style=\"color: #00af00; text-decoration-color: #00af00\">731,200</span> │\n",
       "├─────────────────────────────────┼────────────────────────┼───────────────┤\n",
       "│ dense_11 (<span style=\"color: #0087ff; text-decoration-color: #0087ff\">Dense</span>)                │ (<span style=\"color: #00af00; text-decoration-color: #00af00\">1</span>, <span style=\"color: #00af00; text-decoration-color: #00af00\">256</span>)               │       <span style=\"color: #00af00; text-decoration-color: #00af00\">102,656</span> │\n",
       "├─────────────────────────────────┼────────────────────────┼───────────────┤\n",
       "│ dropout_1 (<span style=\"color: #0087ff; text-decoration-color: #0087ff\">Dropout</span>)             │ (<span style=\"color: #00af00; text-decoration-color: #00af00\">1</span>, <span style=\"color: #00af00; text-decoration-color: #00af00\">256</span>)               │             <span style=\"color: #00af00; text-decoration-color: #00af00\">0</span> │\n",
       "├─────────────────────────────────┼────────────────────────┼───────────────┤\n",
       "│ dense_12 (<span style=\"color: #0087ff; text-decoration-color: #0087ff\">Dense</span>)                │ (<span style=\"color: #00af00; text-decoration-color: #00af00\">1</span>, <span style=\"color: #00af00; text-decoration-color: #00af00\">7</span>)                 │         <span style=\"color: #00af00; text-decoration-color: #00af00\">1,799</span> │\n",
       "└─────────────────────────────────┴────────────────────────┴───────────────┘\n",
       "</pre>\n"
      ],
      "text/plain": [
       "┏━━━━━━━━━━━━━━━━━━━━━━━━━━━━━━━━━┳━━━━━━━━━━━━━━━━━━━━━━━━┳━━━━━━━━━━━━━━━┓\n",
       "┃\u001b[1m \u001b[0m\u001b[1mLayer (type)                   \u001b[0m\u001b[1m \u001b[0m┃\u001b[1m \u001b[0m\u001b[1mOutput Shape          \u001b[0m\u001b[1m \u001b[0m┃\u001b[1m \u001b[0m\u001b[1m      Param #\u001b[0m\u001b[1m \u001b[0m┃\n",
       "┡━━━━━━━━━━━━━━━━━━━━━━━━━━━━━━━━━╇━━━━━━━━━━━━━━━━━━━━━━━━╇━━━━━━━━━━━━━━━┩\n",
       "│ embedding_11 (\u001b[38;5;33mEmbedding\u001b[0m)        │ (\u001b[38;5;34m1\u001b[0m, \u001b[38;5;34m2000\u001b[0m, \u001b[38;5;34m256\u001b[0m)         │     \u001b[38;5;34m5,278,208\u001b[0m │\n",
       "├─────────────────────────────────┼────────────────────────┼───────────────┤\n",
       "│ bidirectional_1 (\u001b[38;5;33mBidirectional\u001b[0m) │ (\u001b[38;5;34m1\u001b[0m, \u001b[38;5;34m400\u001b[0m)               │       \u001b[38;5;34m731,200\u001b[0m │\n",
       "├─────────────────────────────────┼────────────────────────┼───────────────┤\n",
       "│ dense_11 (\u001b[38;5;33mDense\u001b[0m)                │ (\u001b[38;5;34m1\u001b[0m, \u001b[38;5;34m256\u001b[0m)               │       \u001b[38;5;34m102,656\u001b[0m │\n",
       "├─────────────────────────────────┼────────────────────────┼───────────────┤\n",
       "│ dropout_1 (\u001b[38;5;33mDropout\u001b[0m)             │ (\u001b[38;5;34m1\u001b[0m, \u001b[38;5;34m256\u001b[0m)               │             \u001b[38;5;34m0\u001b[0m │\n",
       "├─────────────────────────────────┼────────────────────────┼───────────────┤\n",
       "│ dense_12 (\u001b[38;5;33mDense\u001b[0m)                │ (\u001b[38;5;34m1\u001b[0m, \u001b[38;5;34m7\u001b[0m)                 │         \u001b[38;5;34m1,799\u001b[0m │\n",
       "└─────────────────────────────────┴────────────────────────┴───────────────┘\n"
      ]
     },
     "metadata": {},
     "output_type": "display_data"
    },
    {
     "data": {
      "text/html": [
       "<pre style=\"white-space:pre;overflow-x:auto;line-height:normal;font-family:Menlo,'DejaVu Sans Mono',consolas,'Courier New',monospace\"><span style=\"font-weight: bold\"> Total params: </span><span style=\"color: #00af00; text-decoration-color: #00af00\">6,113,863</span> (23.32 MB)\n",
       "</pre>\n"
      ],
      "text/plain": [
       "\u001b[1m Total params: \u001b[0m\u001b[38;5;34m6,113,863\u001b[0m (23.32 MB)\n"
      ]
     },
     "metadata": {},
     "output_type": "display_data"
    },
    {
     "data": {
      "text/html": [
       "<pre style=\"white-space:pre;overflow-x:auto;line-height:normal;font-family:Menlo,'DejaVu Sans Mono',consolas,'Courier New',monospace\"><span style=\"font-weight: bold\"> Trainable params: </span><span style=\"color: #00af00; text-decoration-color: #00af00\">6,113,863</span> (23.32 MB)\n",
       "</pre>\n"
      ],
      "text/plain": [
       "\u001b[1m Trainable params: \u001b[0m\u001b[38;5;34m6,113,863\u001b[0m (23.32 MB)\n"
      ]
     },
     "metadata": {},
     "output_type": "display_data"
    },
    {
     "data": {
      "text/html": [
       "<pre style=\"white-space:pre;overflow-x:auto;line-height:normal;font-family:Menlo,'DejaVu Sans Mono',consolas,'Courier New',monospace\"><span style=\"font-weight: bold\"> Non-trainable params: </span><span style=\"color: #00af00; text-decoration-color: #00af00\">0</span> (0.00 B)\n",
       "</pre>\n"
      ],
      "text/plain": [
       "\u001b[1m Non-trainable params: \u001b[0m\u001b[38;5;34m0\u001b[0m (0.00 B)\n"
      ]
     },
     "metadata": {},
     "output_type": "display_data"
    }
   ],
   "source": [
    "model.compile(loss='sparse_categorical_crossentropy', \n",
    "              optimizer=Adam(learning_rate=0.0005),  \n",
    "              metrics=['accuracy'])\n",
    "dummy_input = tf.random.uniform((1, max_length), minval=0, maxval=vocab_size, dtype=tf.int32)\n",
    "model(dummy_input)\n",
    "\n",
    "model.summary()"
   ]
  },
  {
   "cell_type": "code",
   "execution_count": 35,
   "metadata": {},
   "outputs": [
    {
     "name": "stdout",
     "output_type": "stream",
     "text": [
      "Epoch 1/20\n",
      "\u001b[1m5/5\u001b[0m \u001b[32m━━━━━━━━━━━━━━━━━━━━\u001b[0m\u001b[37m\u001b[0m \u001b[1m7s\u001b[0m 926ms/step - accuracy: 0.1177 - loss: 1.9470 - val_accuracy: 0.3889 - val_loss: 1.9300\n",
      "Epoch 2/20\n",
      "\u001b[1m5/5\u001b[0m \u001b[32m━━━━━━━━━━━━━━━━━━━━\u001b[0m\u001b[37m\u001b[0m \u001b[1m4s\u001b[0m 856ms/step - accuracy: 0.3616 - loss: 1.9283 - val_accuracy: 0.5278 - val_loss: 1.9123\n",
      "Epoch 3/20\n",
      "\u001b[1m5/5\u001b[0m \u001b[32m━━━━━━━━━━━━━━━━━━━━\u001b[0m\u001b[37m\u001b[0m \u001b[1m4s\u001b[0m 865ms/step - accuracy: 0.4126 - loss: 1.9112 - val_accuracy: 0.5000 - val_loss: 1.8896\n",
      "Epoch 4/20\n",
      "\u001b[1m5/5\u001b[0m \u001b[32m━━━━━━━━━━━━━━━━━━━━\u001b[0m\u001b[37m\u001b[0m \u001b[1m4s\u001b[0m 837ms/step - accuracy: 0.5052 - loss: 1.8766 - val_accuracy: 0.5278 - val_loss: 1.8530\n",
      "Epoch 5/20\n",
      "\u001b[1m5/5\u001b[0m \u001b[32m━━━━━━━━━━━━━━━━━━━━\u001b[0m\u001b[37m\u001b[0m \u001b[1m4s\u001b[0m 824ms/step - accuracy: 0.4512 - loss: 1.8409 - val_accuracy: 0.5278 - val_loss: 1.7952\n",
      "Epoch 6/20\n",
      "\u001b[1m5/5\u001b[0m \u001b[32m━━━━━━━━━━━━━━━━━━━━\u001b[0m\u001b[37m\u001b[0m \u001b[1m4s\u001b[0m 879ms/step - accuracy: 0.4594 - loss: 1.7784 - val_accuracy: 0.5000 - val_loss: 1.7028\n",
      "Epoch 7/20\n",
      "\u001b[1m5/5\u001b[0m \u001b[32m━━━━━━━━━━━━━━━━━━━━\u001b[0m\u001b[37m\u001b[0m \u001b[1m5s\u001b[0m 1s/step - accuracy: 0.4890 - loss: 1.6530 - val_accuracy: 0.4444 - val_loss: 1.6192\n",
      "Epoch 8/20\n",
      "\u001b[1m5/5\u001b[0m \u001b[32m━━━━━━━━━━━━━━━━━━━━\u001b[0m\u001b[37m\u001b[0m \u001b[1m6s\u001b[0m 1s/step - accuracy: 0.5051 - loss: 1.5668 - val_accuracy: 0.4722 - val_loss: 1.4360\n",
      "Epoch 9/20\n",
      "\u001b[1m5/5\u001b[0m \u001b[32m━━━━━━━━━━━━━━━━━━━━\u001b[0m\u001b[37m\u001b[0m \u001b[1m5s\u001b[0m 912ms/step - accuracy: 0.4750 - loss: 1.4432 - val_accuracy: 0.4444 - val_loss: 1.5569\n",
      "Epoch 10/20\n",
      "\u001b[1m5/5\u001b[0m \u001b[32m━━━━━━━━━━━━━━━━━━━━\u001b[0m\u001b[37m\u001b[0m \u001b[1m4s\u001b[0m 815ms/step - accuracy: 0.6043 - loss: 1.3581 - val_accuracy: 0.3611 - val_loss: 1.5212\n",
      "Epoch 11/20\n",
      "\u001b[1m5/5\u001b[0m \u001b[32m━━━━━━━━━━━━━━━━━━━━\u001b[0m\u001b[37m\u001b[0m \u001b[1m4s\u001b[0m 862ms/step - accuracy: 0.6037 - loss: 1.2359 - val_accuracy: 0.4722 - val_loss: 1.4132\n",
      "Epoch 12/20\n",
      "\u001b[1m5/5\u001b[0m \u001b[32m━━━━━━━━━━━━━━━━━━━━\u001b[0m\u001b[37m\u001b[0m \u001b[1m5s\u001b[0m 992ms/step - accuracy: 0.6793 - loss: 1.1148 - val_accuracy: 0.5278 - val_loss: 1.3482\n",
      "Epoch 13/20\n",
      "\u001b[1m5/5\u001b[0m \u001b[32m━━━━━━━━━━━━━━━━━━━━\u001b[0m\u001b[37m\u001b[0m \u001b[1m4s\u001b[0m 886ms/step - accuracy: 0.7466 - loss: 0.8972 - val_accuracy: 0.5833 - val_loss: 1.2975\n",
      "Epoch 14/20\n",
      "\u001b[1m5/5\u001b[0m \u001b[32m━━━━━━━━━━━━━━━━━━━━\u001b[0m\u001b[37m\u001b[0m \u001b[1m4s\u001b[0m 852ms/step - accuracy: 0.8196 - loss: 0.8332 - val_accuracy: 0.5000 - val_loss: 1.3962\n",
      "Epoch 15/20\n",
      "\u001b[1m5/5\u001b[0m \u001b[32m━━━━━━━━━━━━━━━━━━━━\u001b[0m\u001b[37m\u001b[0m \u001b[1m4s\u001b[0m 822ms/step - accuracy: 0.8296 - loss: 0.7069 - val_accuracy: 0.5278 - val_loss: 1.2467\n",
      "Epoch 16/20\n",
      "\u001b[1m5/5\u001b[0m \u001b[32m━━━━━━━━━━━━━━━━━━━━\u001b[0m\u001b[37m\u001b[0m \u001b[1m4s\u001b[0m 790ms/step - accuracy: 0.8246 - loss: 0.6139 - val_accuracy: 0.5833 - val_loss: 1.2260\n",
      "Epoch 17/20\n",
      "\u001b[1m5/5\u001b[0m \u001b[32m━━━━━━━━━━━━━━━━━━━━\u001b[0m\u001b[37m\u001b[0m \u001b[1m4s\u001b[0m 792ms/step - accuracy: 0.8886 - loss: 0.5266 - val_accuracy: 0.6389 - val_loss: 1.1758\n",
      "Epoch 18/20\n",
      "\u001b[1m5/5\u001b[0m \u001b[32m━━━━━━━━━━━━━━━━━━━━\u001b[0m\u001b[37m\u001b[0m \u001b[1m4s\u001b[0m 782ms/step - accuracy: 0.8541 - loss: 0.4920 - val_accuracy: 0.4722 - val_loss: 1.2528\n",
      "Epoch 19/20\n",
      "\u001b[1m5/5\u001b[0m \u001b[32m━━━━━━━━━━━━━━━━━━━━\u001b[0m\u001b[37m\u001b[0m \u001b[1m7s\u001b[0m 1s/step - accuracy: 0.8692 - loss: 0.3877 - val_accuracy: 0.5278 - val_loss: 1.2719\n",
      "Epoch 20/20\n",
      "\u001b[1m5/5\u001b[0m \u001b[32m━━━━━━━━━━━━━━━━━━━━\u001b[0m\u001b[37m\u001b[0m \u001b[1m7s\u001b[0m 1s/step - accuracy: 0.8991 - loss: 0.4118 - val_accuracy: 0.5556 - val_loss: 1.3069\n"
     ]
    }
   ],
   "source": [
    "history = model.fit(X_train, y_train, \n",
    "                    epochs=epochs,\n",
    "                    batch_size=batch_size,\n",
    "                    validation_split=0.2, \n",
    "                    callbacks=[early_stopping])"
   ]
  },
  {
   "cell_type": "code",
   "execution_count": 36,
   "metadata": {},
   "outputs": [
    {
     "name": "stdout",
     "output_type": "stream",
     "text": [
      "\u001b[1m2/2\u001b[0m \u001b[32m━━━━━━━━━━━━━━━━━━━━\u001b[0m\u001b[37m\u001b[0m \u001b[1m0s\u001b[0m 261ms/step - accuracy: 0.4762 - loss: 1.5269\n",
      "Test accuracy: 0.5111111402511597\n"
     ]
    }
   ],
   "source": [
    "test_loss, test_accuracy = model.evaluate(X_test, y_test)  \n",
    "print(f'Test accuracy: {test_accuracy}')"
   ]
  },
  {
   "cell_type": "markdown",
   "metadata": {},
   "source": [
    "## Results: 51% test accuracy"
   ]
  },
  {
   "cell_type": "code",
   "execution_count": null,
   "metadata": {},
   "outputs": [],
   "source": []
  },
  {
   "cell_type": "markdown",
   "metadata": {},
   "source": []
  },
  {
   "cell_type": "markdown",
   "metadata": {},
   "source": [
    "# Attempt #3: Using regularization and balancing classes"
   ]
  },
  {
   "cell_type": "code",
   "execution_count": 37,
   "metadata": {},
   "outputs": [],
   "source": [
    "from tensorflow.keras.layers import GRU, BatchNormalization\n",
    "from tensorflow.keras.callbacks import ReduceLROnPlateau"
   ]
  },
  {
   "cell_type": "code",
   "execution_count": 38,
   "metadata": {},
   "outputs": [
    {
     "name": "stderr",
     "output_type": "stream",
     "text": [
      "/Users/danchizik/Desktop/president-chatbot/myenv/lib/python3.11/site-packages/keras/src/layers/core/embedding.py:90: UserWarning: Argument `input_length` is deprecated. Just remove it.\n",
      "  warnings.warn(\n"
     ]
    }
   ],
   "source": [
    "model3 = Sequential()\n",
    "\n",
    "model3.add(Embedding(input_dim=vocab_size, output_dim=embedding_dim, input_length=max_length))\n",
    "\n",
    "model3.add(Bidirectional(GRU(300, dropout=dropout_rate, recurrent_dropout=recurrent_dropout_rate)))\n",
    "model3.add(BatchNormalization())  # Add batch normalization\n",
    "\n",
    "model3.add(Dense(512, activation='relu'))\n",
    "model3.add(Dropout(0.6))  # Increase dropout\n",
    "\n",
    "model3.add(Dense(len(presidents), activation='softmax'))  "
   ]
  },
  {
   "cell_type": "code",
   "execution_count": 39,
   "metadata": {},
   "outputs": [],
   "source": [
    "model3.compile(loss='sparse_categorical_crossentropy', \n",
    "              optimizer=Adam(learning_rate=0.0005),  \n",
    "              metrics=['accuracy'])"
   ]
  },
  {
   "cell_type": "code",
   "execution_count": 40,
   "metadata": {},
   "outputs": [],
   "source": [
    "reduce_lr = ReduceLROnPlateau(monitor='val_loss', \n",
    "                              factor=0.2, \n",
    "                              patience=2, \n",
    "                              min_lr=0.00001)"
   ]
  },
  {
   "cell_type": "code",
   "execution_count": 41,
   "metadata": {},
   "outputs": [
    {
     "name": "stdout",
     "output_type": "stream",
     "text": [
      "Epoch 1/20\n",
      "\u001b[1m5/5\u001b[0m \u001b[32m━━━━━━━━━━━━━━━━━━━━\u001b[0m\u001b[37m\u001b[0m \u001b[1m10s\u001b[0m 2s/step - accuracy: 0.1746 - loss: 2.0083 - val_accuracy: 0.5278 - val_loss: 1.9260 - learning_rate: 5.0000e-04\n",
      "Epoch 2/20\n",
      "\u001b[1m5/5\u001b[0m \u001b[32m━━━━━━━━━━━━━━━━━━━━\u001b[0m\u001b[37m\u001b[0m \u001b[1m7s\u001b[0m 1s/step - accuracy: 0.4983 - loss: 1.4865 - val_accuracy: 0.4444 - val_loss: 1.9102 - learning_rate: 5.0000e-04\n",
      "Epoch 3/20\n",
      "\u001b[1m5/5\u001b[0m \u001b[32m━━━━━━━━━━━━━━━━━━━━\u001b[0m\u001b[37m\u001b[0m \u001b[1m6s\u001b[0m 1s/step - accuracy: 0.6140 - loss: 1.1182 - val_accuracy: 0.4722 - val_loss: 1.8945 - learning_rate: 5.0000e-04\n",
      "Epoch 4/20\n",
      "\u001b[1m5/5\u001b[0m \u001b[32m━━━━━━━━━━━━━━━━━━━━\u001b[0m\u001b[37m\u001b[0m \u001b[1m7s\u001b[0m 1s/step - accuracy: 0.6609 - loss: 1.0111 - val_accuracy: 0.5000 - val_loss: 1.8798 - learning_rate: 5.0000e-04\n",
      "Epoch 5/20\n",
      "\u001b[1m5/5\u001b[0m \u001b[32m━━━━━━━━━━━━━━━━━━━━\u001b[0m\u001b[37m\u001b[0m \u001b[1m7s\u001b[0m 1s/step - accuracy: 0.7593 - loss: 0.7314 - val_accuracy: 0.5833 - val_loss: 1.8652 - learning_rate: 5.0000e-04\n",
      "Epoch 6/20\n",
      "\u001b[1m5/5\u001b[0m \u001b[32m━━━━━━━━━━━━━━━━━━━━\u001b[0m\u001b[37m\u001b[0m \u001b[1m7s\u001b[0m 1s/step - accuracy: 0.8090 - loss: 0.6135 - val_accuracy: 0.5556 - val_loss: 1.8514 - learning_rate: 5.0000e-04\n",
      "Epoch 7/20\n",
      "\u001b[1m5/5\u001b[0m \u001b[32m━━━━━━━━━━━━━━━━━━━━\u001b[0m\u001b[37m\u001b[0m \u001b[1m7s\u001b[0m 1s/step - accuracy: 0.8657 - loss: 0.5352 - val_accuracy: 0.5556 - val_loss: 1.8399 - learning_rate: 5.0000e-04\n",
      "Epoch 8/20\n",
      "\u001b[1m5/5\u001b[0m \u001b[32m━━━━━━━━━━━━━━━━━━━━\u001b[0m\u001b[37m\u001b[0m \u001b[1m7s\u001b[0m 1s/step - accuracy: 0.9282 - loss: 0.3907 - val_accuracy: 0.5556 - val_loss: 1.8302 - learning_rate: 5.0000e-04\n",
      "Epoch 9/20\n",
      "\u001b[1m5/5\u001b[0m \u001b[32m━━━━━━━━━━━━━━━━━━━━\u001b[0m\u001b[37m\u001b[0m \u001b[1m6s\u001b[0m 1s/step - accuracy: 0.9345 - loss: 0.3460 - val_accuracy: 0.5833 - val_loss: 1.8186 - learning_rate: 5.0000e-04\n",
      "Epoch 10/20\n",
      "\u001b[1m5/5\u001b[0m \u001b[32m━━━━━━━━━━━━━━━━━━━━\u001b[0m\u001b[37m\u001b[0m \u001b[1m7s\u001b[0m 1s/step - accuracy: 0.9562 - loss: 0.2823 - val_accuracy: 0.6111 - val_loss: 1.8052 - learning_rate: 5.0000e-04\n",
      "Epoch 11/20\n",
      "\u001b[1m5/5\u001b[0m \u001b[32m━━━━━━━━━━━━━━━━━━━━\u001b[0m\u001b[37m\u001b[0m \u001b[1m6s\u001b[0m 1s/step - accuracy: 0.9723 - loss: 0.2476 - val_accuracy: 0.6111 - val_loss: 1.7935 - learning_rate: 5.0000e-04\n",
      "Epoch 12/20\n",
      "\u001b[1m5/5\u001b[0m \u001b[32m━━━━━━━━━━━━━━━━━━━━\u001b[0m\u001b[37m\u001b[0m \u001b[1m6s\u001b[0m 1s/step - accuracy: 0.9565 - loss: 0.2214 - val_accuracy: 0.6111 - val_loss: 1.7820 - learning_rate: 5.0000e-04\n",
      "Epoch 13/20\n",
      "\u001b[1m5/5\u001b[0m \u001b[32m━━━━━━━━━━━━━━━━━━━━\u001b[0m\u001b[37m\u001b[0m \u001b[1m7s\u001b[0m 1s/step - accuracy: 0.9610 - loss: 0.2136 - val_accuracy: 0.6111 - val_loss: 1.7706 - learning_rate: 5.0000e-04\n",
      "Epoch 14/20\n",
      "\u001b[1m5/5\u001b[0m \u001b[32m━━━━━━━━━━━━━━━━━━━━\u001b[0m\u001b[37m\u001b[0m \u001b[1m7s\u001b[0m 1s/step - accuracy: 0.9755 - loss: 0.1327 - val_accuracy: 0.5833 - val_loss: 1.7604 - learning_rate: 5.0000e-04\n",
      "Epoch 15/20\n",
      "\u001b[1m5/5\u001b[0m \u001b[32m━━━━━━━━━━━━━━━━━━━━\u001b[0m\u001b[37m\u001b[0m \u001b[1m7s\u001b[0m 1s/step - accuracy: 0.9629 - loss: 0.1757 - val_accuracy: 0.5833 - val_loss: 1.7527 - learning_rate: 5.0000e-04\n",
      "Epoch 16/20\n",
      "\u001b[1m5/5\u001b[0m \u001b[32m━━━━━━━━━━━━━━━━━━━━\u001b[0m\u001b[37m\u001b[0m \u001b[1m7s\u001b[0m 1s/step - accuracy: 0.9484 - loss: 0.1674 - val_accuracy: 0.5833 - val_loss: 1.7443 - learning_rate: 5.0000e-04\n",
      "Epoch 17/20\n",
      "\u001b[1m5/5\u001b[0m \u001b[32m━━━━━━━━━━━━━━━━━━━━\u001b[0m\u001b[37m\u001b[0m \u001b[1m6s\u001b[0m 1s/step - accuracy: 0.9861 - loss: 0.0903 - val_accuracy: 0.5833 - val_loss: 1.7365 - learning_rate: 5.0000e-04\n",
      "Epoch 18/20\n",
      "\u001b[1m5/5\u001b[0m \u001b[32m━━━━━━━━━━━━━━━━━━━━\u001b[0m\u001b[37m\u001b[0m \u001b[1m6s\u001b[0m 1s/step - accuracy: 0.9646 - loss: 0.1457 - val_accuracy: 0.5556 - val_loss: 1.7312 - learning_rate: 5.0000e-04\n",
      "Epoch 19/20\n",
      "\u001b[1m5/5\u001b[0m \u001b[32m━━━━━━━━━━━━━━━━━━━━\u001b[0m\u001b[37m\u001b[0m \u001b[1m9s\u001b[0m 2s/step - accuracy: 0.9714 - loss: 0.1040 - val_accuracy: 0.5833 - val_loss: 1.7270 - learning_rate: 5.0000e-04\n",
      "Epoch 20/20\n",
      "\u001b[1m5/5\u001b[0m \u001b[32m━━━━━━━━━━━━━━━━━━━━\u001b[0m\u001b[37m\u001b[0m \u001b[1m10s\u001b[0m 2s/step - accuracy: 0.9887 - loss: 0.0686 - val_accuracy: 0.5833 - val_loss: 1.7207 - learning_rate: 5.0000e-04\n"
     ]
    }
   ],
   "source": [
    "history = model3.fit(X_train, y_train, \n",
    "                    epochs=epochs,\n",
    "                    batch_size=batch_size,\n",
    "                    validation_split=0.2, \n",
    "                    callbacks=[early_stopping, reduce_lr])\n"
   ]
  },
  {
   "cell_type": "code",
   "execution_count": 42,
   "metadata": {},
   "outputs": [
    {
     "name": "stdout",
     "output_type": "stream",
     "text": [
      "\u001b[1m2/2\u001b[0m \u001b[32m━━━━━━━━━━━━━━━━━━━━\u001b[0m\u001b[37m\u001b[0m \u001b[1m1s\u001b[0m 261ms/step - accuracy: 0.5326 - loss: 1.7619\n",
      "Test accuracy: 0.5333333611488342\n"
     ]
    }
   ],
   "source": [
    "test_loss, test_accuracy = model3.evaluate(X_test, y_test)  \n",
    "print(f'Test accuracy: {test_accuracy}')"
   ]
  },
  {
   "cell_type": "code",
   "execution_count": null,
   "metadata": {},
   "outputs": [],
   "source": []
  },
  {
   "cell_type": "markdown",
   "metadata": {},
   "source": []
  },
  {
   "cell_type": "markdown",
   "metadata": {},
   "source": [
    "# Using a pre-trained Bert model"
   ]
  },
  {
   "cell_type": "code",
   "execution_count": 45,
   "metadata": {},
   "outputs": [],
   "source": [
    "from transformers import TFBertForSequenceClassification, BertTokenizer"
   ]
  },
  {
   "cell_type": "code",
   "execution_count": 46,
   "metadata": {},
   "outputs": [
    {
     "name": "stderr",
     "output_type": "stream",
     "text": [
      "All PyTorch model weights were used when initializing TFBertForSequenceClassification.\n",
      "\n",
      "Some weights or buffers of the TF 2.0 model TFBertForSequenceClassification were not initialized from the PyTorch model and are newly initialized: ['classifier.weight', 'classifier.bias']\n",
      "You should probably TRAIN this model on a down-stream task to be able to use it for predictions and inference.\n"
     ]
    }
   ],
   "source": [
    "tokenizerBert = BertTokenizer.from_pretrained('bert-base-uncased')\n",
    "modelBert = TFBertForSequenceClassification.from_pretrained('bert-base-uncased', num_labels=len(presidents))"
   ]
  },
  {
   "cell_type": "code",
   "execution_count": 49,
   "metadata": {},
   "outputs": [
    {
     "ename": "KeyboardInterrupt",
     "evalue": "",
     "output_type": "error",
     "traceback": [
      "\u001b[31m---------------------------------------------------------------------------\u001b[39m",
      "\u001b[31mKeyboardInterrupt\u001b[39m                         Traceback (most recent call last)",
      "\u001b[32m/var/folders/fg/_cm9z0lx34b9zrpmj_h8s3q80000gn/T/ipykernel_96099/695885861.py\u001b[39m in \u001b[36m?\u001b[39m\u001b[34m()\u001b[39m\n\u001b[32m      1\u001b[39m inputs = tokenizerBert(cleaned_texts, padding=\u001b[38;5;28;01mTrue\u001b[39;00m, truncation=\u001b[38;5;28;01mTrue\u001b[39;00m, return_tensors=\u001b[33m\"tf\"\u001b[39m)\n\u001b[32m----> \u001b[39m\u001b[32m2\u001b[39m outputs = modelBert(inputs)\n",
      "\u001b[32m~/Desktop/president-chatbot/myenv/lib/python3.11/site-packages/tf_keras/src/utils/traceback_utils.py\u001b[39m in \u001b[36m?\u001b[39m\u001b[34m(*args, **kwargs)\u001b[39m\n\u001b[32m     68\u001b[39m             \u001b[38;5;66;03m# To get the full stack trace, call:\u001b[39;00m\n\u001b[32m     69\u001b[39m             \u001b[38;5;66;03m# `tf.debugging.disable_traceback_filtering()`\u001b[39;00m\n\u001b[32m     70\u001b[39m             \u001b[38;5;28;01mraise\u001b[39;00m e.with_traceback(filtered_tb) \u001b[38;5;28;01mfrom\u001b[39;00m \u001b[38;5;28;01mNone\u001b[39;00m\n\u001b[32m     71\u001b[39m         \u001b[38;5;28;01mfinally\u001b[39;00m:\n\u001b[32m---> \u001b[39m\u001b[32m72\u001b[39m             \u001b[38;5;28;01mdel\u001b[39;00m filtered_tb\n",
      "\u001b[32m~/Desktop/president-chatbot/myenv/lib/python3.11/site-packages/tf_keras/src/engine/training.py\u001b[39m in \u001b[36m?\u001b[39m\u001b[34m(self, *args, **kwargs)\u001b[39m\n\u001b[32m    584\u001b[39m                 super().__call__(inputs, *copied_args, **copied_kwargs)\n\u001b[32m    585\u001b[39m \n\u001b[32m    586\u001b[39m             layout_map_lib._map_subclass_model_variable(self, self._layout_map)\n\u001b[32m    587\u001b[39m \n\u001b[32m--> \u001b[39m\u001b[32m588\u001b[39m         \u001b[38;5;28;01mreturn\u001b[39;00m super().__call__(*args, **kwargs)\n",
      "\u001b[32m~/Desktop/president-chatbot/myenv/lib/python3.11/site-packages/tf_keras/src/utils/traceback_utils.py\u001b[39m in \u001b[36m?\u001b[39m\u001b[34m(*args, **kwargs)\u001b[39m\n\u001b[32m     68\u001b[39m             \u001b[38;5;66;03m# To get the full stack trace, call:\u001b[39;00m\n\u001b[32m     69\u001b[39m             \u001b[38;5;66;03m# `tf.debugging.disable_traceback_filtering()`\u001b[39;00m\n\u001b[32m     70\u001b[39m             \u001b[38;5;28;01mraise\u001b[39;00m e.with_traceback(filtered_tb) \u001b[38;5;28;01mfrom\u001b[39;00m \u001b[38;5;28;01mNone\u001b[39;00m\n\u001b[32m     71\u001b[39m         \u001b[38;5;28;01mfinally\u001b[39;00m:\n\u001b[32m---> \u001b[39m\u001b[32m72\u001b[39m             \u001b[38;5;28;01mdel\u001b[39;00m filtered_tb\n",
      "\u001b[32m~/Desktop/president-chatbot/myenv/lib/python3.11/site-packages/tf_keras/src/engine/base_layer.py\u001b[39m in \u001b[36m?\u001b[39m\u001b[34m(self, *args, **kwargs)\u001b[39m\n\u001b[32m   1138\u001b[39m \n\u001b[32m   1139\u001b[39m                 with autocast_variable.enable_auto_cast_variables(\n\u001b[32m   1140\u001b[39m                     self._compute_dtype_object\n\u001b[32m   1141\u001b[39m                 ):\n\u001b[32m-> \u001b[39m\u001b[32m1142\u001b[39m                     outputs = call_fn(inputs, *args, **kwargs)\n\u001b[32m   1143\u001b[39m \n\u001b[32m   1144\u001b[39m                 \u001b[38;5;28;01mif\u001b[39;00m self._activity_regularizer:\n\u001b[32m   1145\u001b[39m                     self._handle_activity_regularization(inputs, outputs)\n",
      "\u001b[32m~/Desktop/president-chatbot/myenv/lib/python3.11/site-packages/tf_keras/src/utils/traceback_utils.py\u001b[39m in \u001b[36m?\u001b[39m\u001b[34m(*args, **kwargs)\u001b[39m\n\u001b[32m    154\u001b[39m                 new_e = e\n\u001b[32m    155\u001b[39m             \u001b[38;5;28;01mraise\u001b[39;00m new_e.with_traceback(e.__traceback__) \u001b[38;5;28;01mfrom\u001b[39;00m \u001b[38;5;28;01mNone\u001b[39;00m\n\u001b[32m    156\u001b[39m         \u001b[38;5;28;01mfinally\u001b[39;00m:\n\u001b[32m    157\u001b[39m             \u001b[38;5;28;01mdel\u001b[39;00m signature\n\u001b[32m--> \u001b[39m\u001b[32m158\u001b[39m             \u001b[38;5;28;01mdel\u001b[39;00m bound_signature\n",
      "\u001b[32m~/Desktop/president-chatbot/myenv/lib/python3.11/site-packages/transformers/modeling_tf_utils.py\u001b[39m in \u001b[36m?\u001b[39m\u001b[34m(self, *args, **kwargs)\u001b[39m\n\u001b[32m    433\u001b[39m         \u001b[38;5;28;01melse\u001b[39;00m:\n\u001b[32m    434\u001b[39m             config = self.config\n\u001b[32m    435\u001b[39m \n\u001b[32m    436\u001b[39m         unpacked_inputs = input_processing(func, config, **fn_args_and_kwargs)\n\u001b[32m--> \u001b[39m\u001b[32m437\u001b[39m         \u001b[38;5;28;01mreturn\u001b[39;00m func(self, **unpacked_inputs)\n",
      "\u001b[32m~/Desktop/president-chatbot/myenv/lib/python3.11/site-packages/transformers/models/bert/modeling_tf_bert.py\u001b[39m in \u001b[36m?\u001b[39m\u001b[34m(self, input_ids, attention_mask, token_type_ids, position_ids, head_mask, inputs_embeds, output_attentions, output_hidden_states, return_dict, labels, training)\u001b[39m\n\u001b[32m   1742\u001b[39m             Labels for computing the sequence classification/regression loss. Indices should be in `[0, ...,\n\u001b[32m   1743\u001b[39m             config.num_labels - 1]`. If `config.num_labels == 1` a regression loss is computed (Mean-Square loss), If\n\u001b[32m   1744\u001b[39m             `config.num_labels > \u001b[32m1\u001b[39m` a classification loss \u001b[38;5;28;01mis\u001b[39;00m computed (Cross-Entropy).\n\u001b[32m   1745\u001b[39m         \"\"\"\n\u001b[32m-> \u001b[39m\u001b[32m1746\u001b[39m         outputs = self.bert(\n\u001b[32m   1747\u001b[39m             input_ids=input_ids,\n\u001b[32m   1748\u001b[39m             attention_mask=attention_mask,\n\u001b[32m   1749\u001b[39m             token_type_ids=token_type_ids,\n",
      "\u001b[32m~/Desktop/president-chatbot/myenv/lib/python3.11/site-packages/tf_keras/src/utils/traceback_utils.py\u001b[39m in \u001b[36m?\u001b[39m\u001b[34m(*args, **kwargs)\u001b[39m\n\u001b[32m     68\u001b[39m             \u001b[38;5;66;03m# To get the full stack trace, call:\u001b[39;00m\n\u001b[32m     69\u001b[39m             \u001b[38;5;66;03m# `tf.debugging.disable_traceback_filtering()`\u001b[39;00m\n\u001b[32m     70\u001b[39m             \u001b[38;5;28;01mraise\u001b[39;00m e.with_traceback(filtered_tb) \u001b[38;5;28;01mfrom\u001b[39;00m \u001b[38;5;28;01mNone\u001b[39;00m\n\u001b[32m     71\u001b[39m         \u001b[38;5;28;01mfinally\u001b[39;00m:\n\u001b[32m---> \u001b[39m\u001b[32m72\u001b[39m             \u001b[38;5;28;01mdel\u001b[39;00m filtered_tb\n",
      "\u001b[32m~/Desktop/president-chatbot/myenv/lib/python3.11/site-packages/tf_keras/src/engine/base_layer.py\u001b[39m in \u001b[36m?\u001b[39m\u001b[34m(self, *args, **kwargs)\u001b[39m\n\u001b[32m   1138\u001b[39m \n\u001b[32m   1139\u001b[39m                 with autocast_variable.enable_auto_cast_variables(\n\u001b[32m   1140\u001b[39m                     self._compute_dtype_object\n\u001b[32m   1141\u001b[39m                 ):\n\u001b[32m-> \u001b[39m\u001b[32m1142\u001b[39m                     outputs = call_fn(inputs, *args, **kwargs)\n\u001b[32m   1143\u001b[39m \n\u001b[32m   1144\u001b[39m                 \u001b[38;5;28;01mif\u001b[39;00m self._activity_regularizer:\n\u001b[32m   1145\u001b[39m                     self._handle_activity_regularization(inputs, outputs)\n",
      "\u001b[32m~/Desktop/president-chatbot/myenv/lib/python3.11/site-packages/tf_keras/src/utils/traceback_utils.py\u001b[39m in \u001b[36m?\u001b[39m\u001b[34m(*args, **kwargs)\u001b[39m\n\u001b[32m    154\u001b[39m                 new_e = e\n\u001b[32m    155\u001b[39m             \u001b[38;5;28;01mraise\u001b[39;00m new_e.with_traceback(e.__traceback__) \u001b[38;5;28;01mfrom\u001b[39;00m \u001b[38;5;28;01mNone\u001b[39;00m\n\u001b[32m    156\u001b[39m         \u001b[38;5;28;01mfinally\u001b[39;00m:\n\u001b[32m    157\u001b[39m             \u001b[38;5;28;01mdel\u001b[39;00m signature\n\u001b[32m--> \u001b[39m\u001b[32m158\u001b[39m             \u001b[38;5;28;01mdel\u001b[39;00m bound_signature\n",
      "\u001b[32m~/Desktop/president-chatbot/myenv/lib/python3.11/site-packages/transformers/modeling_tf_utils.py\u001b[39m in \u001b[36m?\u001b[39m\u001b[34m(self, *args, **kwargs)\u001b[39m\n\u001b[32m    433\u001b[39m         \u001b[38;5;28;01melse\u001b[39;00m:\n\u001b[32m    434\u001b[39m             config = self.config\n\u001b[32m    435\u001b[39m \n\u001b[32m    436\u001b[39m         unpacked_inputs = input_processing(func, config, **fn_args_and_kwargs)\n\u001b[32m--> \u001b[39m\u001b[32m437\u001b[39m         \u001b[38;5;28;01mreturn\u001b[39;00m func(self, **unpacked_inputs)\n",
      "\u001b[32m~/Desktop/president-chatbot/myenv/lib/python3.11/site-packages/transformers/models/bert/modeling_tf_bert.py\u001b[39m in \u001b[36m?\u001b[39m\u001b[34m(self, input_ids, attention_mask, token_type_ids, position_ids, head_mask, inputs_embeds, encoder_hidden_states, encoder_attention_mask, past_key_values, use_cache, output_attentions, output_hidden_states, return_dict, training)\u001b[39m\n\u001b[32m    965\u001b[39m             \u001b[38;5;28;01mraise\u001b[39;00m NotImplementedError\n\u001b[32m    966\u001b[39m         \u001b[38;5;28;01melse\u001b[39;00m:\n\u001b[32m    967\u001b[39m             head_mask = [\u001b[38;5;28;01mNone\u001b[39;00m] * self.config.num_hidden_layers\n\u001b[32m    968\u001b[39m \n\u001b[32m--> \u001b[39m\u001b[32m969\u001b[39m         encoder_outputs = self.encoder(\n\u001b[32m    970\u001b[39m             hidden_states=embedding_output,\n\u001b[32m    971\u001b[39m             attention_mask=extended_attention_mask,\n\u001b[32m    972\u001b[39m             head_mask=head_mask,\n",
      "\u001b[32m~/Desktop/president-chatbot/myenv/lib/python3.11/site-packages/tf_keras/src/utils/traceback_utils.py\u001b[39m in \u001b[36m?\u001b[39m\u001b[34m(*args, **kwargs)\u001b[39m\n\u001b[32m     68\u001b[39m             \u001b[38;5;66;03m# To get the full stack trace, call:\u001b[39;00m\n\u001b[32m     69\u001b[39m             \u001b[38;5;66;03m# `tf.debugging.disable_traceback_filtering()`\u001b[39;00m\n\u001b[32m     70\u001b[39m             \u001b[38;5;28;01mraise\u001b[39;00m e.with_traceback(filtered_tb) \u001b[38;5;28;01mfrom\u001b[39;00m \u001b[38;5;28;01mNone\u001b[39;00m\n\u001b[32m     71\u001b[39m         \u001b[38;5;28;01mfinally\u001b[39;00m:\n\u001b[32m---> \u001b[39m\u001b[32m72\u001b[39m             \u001b[38;5;28;01mdel\u001b[39;00m filtered_tb\n",
      "\u001b[32m~/Desktop/president-chatbot/myenv/lib/python3.11/site-packages/tf_keras/src/engine/base_layer.py\u001b[39m in \u001b[36m?\u001b[39m\u001b[34m(self, *args, **kwargs)\u001b[39m\n\u001b[32m   1138\u001b[39m \n\u001b[32m   1139\u001b[39m                 with autocast_variable.enable_auto_cast_variables(\n\u001b[32m   1140\u001b[39m                     self._compute_dtype_object\n\u001b[32m   1141\u001b[39m                 ):\n\u001b[32m-> \u001b[39m\u001b[32m1142\u001b[39m                     outputs = call_fn(inputs, *args, **kwargs)\n\u001b[32m   1143\u001b[39m \n\u001b[32m   1144\u001b[39m                 \u001b[38;5;28;01mif\u001b[39;00m self._activity_regularizer:\n\u001b[32m   1145\u001b[39m                     self._handle_activity_regularization(inputs, outputs)\n",
      "\u001b[32m~/Desktop/president-chatbot/myenv/lib/python3.11/site-packages/tf_keras/src/utils/traceback_utils.py\u001b[39m in \u001b[36m?\u001b[39m\u001b[34m(*args, **kwargs)\u001b[39m\n\u001b[32m    154\u001b[39m                 new_e = e\n\u001b[32m    155\u001b[39m             \u001b[38;5;28;01mraise\u001b[39;00m new_e.with_traceback(e.__traceback__) \u001b[38;5;28;01mfrom\u001b[39;00m \u001b[38;5;28;01mNone\u001b[39;00m\n\u001b[32m    156\u001b[39m         \u001b[38;5;28;01mfinally\u001b[39;00m:\n\u001b[32m    157\u001b[39m             \u001b[38;5;28;01mdel\u001b[39;00m signature\n\u001b[32m--> \u001b[39m\u001b[32m158\u001b[39m             \u001b[38;5;28;01mdel\u001b[39;00m bound_signature\n",
      "\u001b[32m~/Desktop/president-chatbot/myenv/lib/python3.11/site-packages/transformers/models/bert/modeling_tf_bert.py\u001b[39m in \u001b[36m?\u001b[39m\u001b[34m(self, hidden_states, attention_mask, head_mask, encoder_hidden_states, encoder_attention_mask, past_key_values, use_cache, output_attentions, output_hidden_states, return_dict, training)\u001b[39m\n\u001b[32m    605\u001b[39m                 all_hidden_states = all_hidden_states + (hidden_states,)\n\u001b[32m    606\u001b[39m \n\u001b[32m    607\u001b[39m             past_key_value = past_key_values[i] \u001b[38;5;28;01mif\u001b[39;00m past_key_values \u001b[38;5;28;01mis\u001b[39;00m \u001b[38;5;28;01mnot\u001b[39;00m \u001b[38;5;28;01mNone\u001b[39;00m \u001b[38;5;28;01melse\u001b[39;00m \u001b[38;5;28;01mNone\u001b[39;00m\n\u001b[32m    608\u001b[39m \n\u001b[32m--> \u001b[39m\u001b[32m609\u001b[39m             layer_outputs = layer_module(\n\u001b[32m    610\u001b[39m                 hidden_states=hidden_states,\n\u001b[32m    611\u001b[39m                 attention_mask=attention_mask,\n\u001b[32m    612\u001b[39m                 head_mask=head_mask[i],\n",
      "\u001b[32m~/Desktop/president-chatbot/myenv/lib/python3.11/site-packages/tf_keras/src/utils/traceback_utils.py\u001b[39m in \u001b[36m?\u001b[39m\u001b[34m(*args, **kwargs)\u001b[39m\n\u001b[32m     68\u001b[39m             \u001b[38;5;66;03m# To get the full stack trace, call:\u001b[39;00m\n\u001b[32m     69\u001b[39m             \u001b[38;5;66;03m# `tf.debugging.disable_traceback_filtering()`\u001b[39;00m\n\u001b[32m     70\u001b[39m             \u001b[38;5;28;01mraise\u001b[39;00m e.with_traceback(filtered_tb) \u001b[38;5;28;01mfrom\u001b[39;00m \u001b[38;5;28;01mNone\u001b[39;00m\n\u001b[32m     71\u001b[39m         \u001b[38;5;28;01mfinally\u001b[39;00m:\n\u001b[32m---> \u001b[39m\u001b[32m72\u001b[39m             \u001b[38;5;28;01mdel\u001b[39;00m filtered_tb\n",
      "\u001b[32m~/Desktop/president-chatbot/myenv/lib/python3.11/site-packages/tf_keras/src/engine/base_layer.py\u001b[39m in \u001b[36m?\u001b[39m\u001b[34m(self, *args, **kwargs)\u001b[39m\n\u001b[32m   1138\u001b[39m \n\u001b[32m   1139\u001b[39m                 with autocast_variable.enable_auto_cast_variables(\n\u001b[32m   1140\u001b[39m                     self._compute_dtype_object\n\u001b[32m   1141\u001b[39m                 ):\n\u001b[32m-> \u001b[39m\u001b[32m1142\u001b[39m                     outputs = call_fn(inputs, *args, **kwargs)\n\u001b[32m   1143\u001b[39m \n\u001b[32m   1144\u001b[39m                 \u001b[38;5;28;01mif\u001b[39;00m self._activity_regularizer:\n\u001b[32m   1145\u001b[39m                     self._handle_activity_regularization(inputs, outputs)\n",
      "\u001b[32m~/Desktop/president-chatbot/myenv/lib/python3.11/site-packages/tf_keras/src/utils/traceback_utils.py\u001b[39m in \u001b[36m?\u001b[39m\u001b[34m(*args, **kwargs)\u001b[39m\n\u001b[32m    154\u001b[39m                 new_e = e\n\u001b[32m    155\u001b[39m             \u001b[38;5;28;01mraise\u001b[39;00m new_e.with_traceback(e.__traceback__) \u001b[38;5;28;01mfrom\u001b[39;00m \u001b[38;5;28;01mNone\u001b[39;00m\n\u001b[32m    156\u001b[39m         \u001b[38;5;28;01mfinally\u001b[39;00m:\n\u001b[32m    157\u001b[39m             \u001b[38;5;28;01mdel\u001b[39;00m signature\n\u001b[32m--> \u001b[39m\u001b[32m158\u001b[39m             \u001b[38;5;28;01mdel\u001b[39;00m bound_signature\n",
      "\u001b[32m~/Desktop/president-chatbot/myenv/lib/python3.11/site-packages/transformers/models/bert/modeling_tf_bert.py\u001b[39m in \u001b[36m?\u001b[39m\u001b[34m(self, hidden_states, attention_mask, head_mask, encoder_hidden_states, encoder_attention_mask, past_key_value, output_attentions, training)\u001b[39m\n\u001b[32m    498\u001b[39m         training: bool = \u001b[38;5;28;01mFalse\u001b[39;00m,\n\u001b[32m    499\u001b[39m     ) -> Tuple[tf.Tensor]:\n\u001b[32m    500\u001b[39m         \u001b[38;5;66;03m# decoder uni-directional self-attention cached key/values tuple is at positions 1,2\u001b[39;00m\n\u001b[32m    501\u001b[39m         self_attn_past_key_value = past_key_value[:\u001b[32m2\u001b[39m] \u001b[38;5;28;01mif\u001b[39;00m past_key_value \u001b[38;5;28;01mis\u001b[39;00m \u001b[38;5;28;01mnot\u001b[39;00m \u001b[38;5;28;01mNone\u001b[39;00m \u001b[38;5;28;01melse\u001b[39;00m \u001b[38;5;28;01mNone\u001b[39;00m\n\u001b[32m--> \u001b[39m\u001b[32m502\u001b[39m         self_attention_outputs = self.attention(\n\u001b[32m    503\u001b[39m             input_tensor=hidden_states,\n\u001b[32m    504\u001b[39m             attention_mask=attention_mask,\n\u001b[32m    505\u001b[39m             head_mask=head_mask,\n",
      "\u001b[32m~/Desktop/president-chatbot/myenv/lib/python3.11/site-packages/tf_keras/src/utils/traceback_utils.py\u001b[39m in \u001b[36m?\u001b[39m\u001b[34m(*args, **kwargs)\u001b[39m\n\u001b[32m     68\u001b[39m             \u001b[38;5;66;03m# To get the full stack trace, call:\u001b[39;00m\n\u001b[32m     69\u001b[39m             \u001b[38;5;66;03m# `tf.debugging.disable_traceback_filtering()`\u001b[39;00m\n\u001b[32m     70\u001b[39m             \u001b[38;5;28;01mraise\u001b[39;00m e.with_traceback(filtered_tb) \u001b[38;5;28;01mfrom\u001b[39;00m \u001b[38;5;28;01mNone\u001b[39;00m\n\u001b[32m     71\u001b[39m         \u001b[38;5;28;01mfinally\u001b[39;00m:\n\u001b[32m---> \u001b[39m\u001b[32m72\u001b[39m             \u001b[38;5;28;01mdel\u001b[39;00m filtered_tb\n",
      "\u001b[32m~/Desktop/president-chatbot/myenv/lib/python3.11/site-packages/tf_keras/src/engine/base_layer.py\u001b[39m in \u001b[36m?\u001b[39m\u001b[34m(self, *args, **kwargs)\u001b[39m\n\u001b[32m   1138\u001b[39m \n\u001b[32m   1139\u001b[39m                 with autocast_variable.enable_auto_cast_variables(\n\u001b[32m   1140\u001b[39m                     self._compute_dtype_object\n\u001b[32m   1141\u001b[39m                 ):\n\u001b[32m-> \u001b[39m\u001b[32m1142\u001b[39m                     outputs = call_fn(inputs, *args, **kwargs)\n\u001b[32m   1143\u001b[39m \n\u001b[32m   1144\u001b[39m                 \u001b[38;5;28;01mif\u001b[39;00m self._activity_regularizer:\n\u001b[32m   1145\u001b[39m                     self._handle_activity_regularization(inputs, outputs)\n",
      "\u001b[32m~/Desktop/president-chatbot/myenv/lib/python3.11/site-packages/tf_keras/src/utils/traceback_utils.py\u001b[39m in \u001b[36m?\u001b[39m\u001b[34m(*args, **kwargs)\u001b[39m\n\u001b[32m    154\u001b[39m                 new_e = e\n\u001b[32m    155\u001b[39m             \u001b[38;5;28;01mraise\u001b[39;00m new_e.with_traceback(e.__traceback__) \u001b[38;5;28;01mfrom\u001b[39;00m \u001b[38;5;28;01mNone\u001b[39;00m\n\u001b[32m    156\u001b[39m         \u001b[38;5;28;01mfinally\u001b[39;00m:\n\u001b[32m    157\u001b[39m             \u001b[38;5;28;01mdel\u001b[39;00m signature\n\u001b[32m--> \u001b[39m\u001b[32m158\u001b[39m             \u001b[38;5;28;01mdel\u001b[39;00m bound_signature\n",
      "\u001b[32m~/Desktop/president-chatbot/myenv/lib/python3.11/site-packages/transformers/models/bert/modeling_tf_bert.py\u001b[39m in \u001b[36m?\u001b[39m\u001b[34m(self, input_tensor, attention_mask, head_mask, encoder_hidden_states, encoder_attention_mask, past_key_value, output_attentions, training)\u001b[39m\n\u001b[32m    382\u001b[39m         past_key_value: Tuple[tf.Tensor],\n\u001b[32m    383\u001b[39m         output_attentions: bool,\n\u001b[32m    384\u001b[39m         training: bool = \u001b[38;5;28;01mFalse\u001b[39;00m,\n\u001b[32m    385\u001b[39m     ) -> Tuple[tf.Tensor]:\n\u001b[32m--> \u001b[39m\u001b[32m386\u001b[39m         self_outputs = self.self_attention(\n\u001b[32m    387\u001b[39m             hidden_states=input_tensor,\n\u001b[32m    388\u001b[39m             attention_mask=attention_mask,\n\u001b[32m    389\u001b[39m             head_mask=head_mask,\n",
      "\u001b[32m~/Desktop/president-chatbot/myenv/lib/python3.11/site-packages/tf_keras/src/utils/traceback_utils.py\u001b[39m in \u001b[36m?\u001b[39m\u001b[34m(*args, **kwargs)\u001b[39m\n\u001b[32m     68\u001b[39m             \u001b[38;5;66;03m# To get the full stack trace, call:\u001b[39;00m\n\u001b[32m     69\u001b[39m             \u001b[38;5;66;03m# `tf.debugging.disable_traceback_filtering()`\u001b[39;00m\n\u001b[32m     70\u001b[39m             \u001b[38;5;28;01mraise\u001b[39;00m e.with_traceback(filtered_tb) \u001b[38;5;28;01mfrom\u001b[39;00m \u001b[38;5;28;01mNone\u001b[39;00m\n\u001b[32m     71\u001b[39m         \u001b[38;5;28;01mfinally\u001b[39;00m:\n\u001b[32m---> \u001b[39m\u001b[32m72\u001b[39m             \u001b[38;5;28;01mdel\u001b[39;00m filtered_tb\n",
      "\u001b[32m~/Desktop/president-chatbot/myenv/lib/python3.11/site-packages/tf_keras/src/engine/base_layer.py\u001b[39m in \u001b[36m?\u001b[39m\u001b[34m(self, *args, **kwargs)\u001b[39m\n\u001b[32m   1138\u001b[39m \n\u001b[32m   1139\u001b[39m                 with autocast_variable.enable_auto_cast_variables(\n\u001b[32m   1140\u001b[39m                     self._compute_dtype_object\n\u001b[32m   1141\u001b[39m                 ):\n\u001b[32m-> \u001b[39m\u001b[32m1142\u001b[39m                     outputs = call_fn(inputs, *args, **kwargs)\n\u001b[32m   1143\u001b[39m \n\u001b[32m   1144\u001b[39m                 \u001b[38;5;28;01mif\u001b[39;00m self._activity_regularizer:\n\u001b[32m   1145\u001b[39m                     self._handle_activity_regularization(inputs, outputs)\n",
      "\u001b[32m~/Desktop/president-chatbot/myenv/lib/python3.11/site-packages/tf_keras/src/utils/traceback_utils.py\u001b[39m in \u001b[36m?\u001b[39m\u001b[34m(*args, **kwargs)\u001b[39m\n\u001b[32m    154\u001b[39m                 new_e = e\n\u001b[32m    155\u001b[39m             \u001b[38;5;28;01mraise\u001b[39;00m new_e.with_traceback(e.__traceback__) \u001b[38;5;28;01mfrom\u001b[39;00m \u001b[38;5;28;01mNone\u001b[39;00m\n\u001b[32m    156\u001b[39m         \u001b[38;5;28;01mfinally\u001b[39;00m:\n\u001b[32m    157\u001b[39m             \u001b[38;5;28;01mdel\u001b[39;00m signature\n\u001b[32m--> \u001b[39m\u001b[32m158\u001b[39m             \u001b[38;5;28;01mdel\u001b[39;00m bound_signature\n",
      "\u001b[32m~/Desktop/president-chatbot/myenv/lib/python3.11/site-packages/transformers/models/bert/modeling_tf_bert.py\u001b[39m in \u001b[36m?\u001b[39m\u001b[34m(self, hidden_states, attention_mask, head_mask, encoder_hidden_states, encoder_attention_mask, past_key_value, output_attentions, training)\u001b[39m\n\u001b[32m    295\u001b[39m             \u001b[38;5;66;03m# Apply the attention mask is (precomputed for all layers in TFBertModel call() function)\u001b[39;00m\n\u001b[32m    296\u001b[39m             attention_scores = tf.add(attention_scores, attention_mask)\n\u001b[32m    297\u001b[39m \n\u001b[32m    298\u001b[39m         \u001b[38;5;66;03m# Normalize the attention scores to probabilities.\u001b[39;00m\n\u001b[32m--> \u001b[39m\u001b[32m299\u001b[39m         attention_probs = stable_softmax(logits=attention_scores, axis=-\u001b[32m1\u001b[39m)\n\u001b[32m    300\u001b[39m \n\u001b[32m    301\u001b[39m         \u001b[38;5;66;03m# This is actually dropping out entire tokens to attend to, which might\u001b[39;00m\n\u001b[32m    302\u001b[39m         \u001b[38;5;66;03m# seem a bit unusual, but is taken from the original Transformer paper.\u001b[39;00m\n",
      "\u001b[32m~/Desktop/president-chatbot/myenv/lib/python3.11/site-packages/transformers/tf_utils.py\u001b[39m in \u001b[36m?\u001b[39m\u001b[34m(logits, axis, name)\u001b[39m\n\u001b[32m     68\u001b[39m             A Tensor. Has the same type \u001b[38;5;28;01mand\u001b[39;00m shape \u001b[38;5;28;01mas\u001b[39;00m logits.\n\u001b[32m     69\u001b[39m     \"\"\"\n\u001b[32m     70\u001b[39m     \u001b[38;5;66;03m# TODO: When the issue linked above gets sorted, add a check on TF version here and use the original function if\u001b[39;00m\n\u001b[32m     71\u001b[39m     \u001b[38;5;66;03m# it has the fix. After we drop the support for unfixed versions, remove this function.\u001b[39;00m\n\u001b[32m---> \u001b[39m\u001b[32m72\u001b[39m     \u001b[38;5;28;01mreturn\u001b[39;00m tf.nn.softmax(logits=logits + \u001b[32m1e-9\u001b[39m, axis=axis, name=name)\n",
      "\u001b[32m~/Desktop/president-chatbot/myenv/lib/python3.11/site-packages/tensorflow/python/util/traceback_utils.py\u001b[39m in \u001b[36m?\u001b[39m\u001b[34m(*args, **kwargs)\u001b[39m\n\u001b[32m    151\u001b[39m     \u001b[38;5;28;01mexcept\u001b[39;00m Exception \u001b[38;5;28;01mas\u001b[39;00m e:\n\u001b[32m    152\u001b[39m       filtered_tb = _process_traceback_frames(e.__traceback__)\n\u001b[32m    153\u001b[39m       \u001b[38;5;28;01mraise\u001b[39;00m e.with_traceback(filtered_tb) \u001b[38;5;28;01mfrom\u001b[39;00m \u001b[38;5;28;01mNone\u001b[39;00m\n\u001b[32m    154\u001b[39m     \u001b[38;5;28;01mfinally\u001b[39;00m:\n\u001b[32m--> \u001b[39m\u001b[32m155\u001b[39m       \u001b[38;5;28;01mdel\u001b[39;00m filtered_tb\n",
      "\u001b[32m~/Desktop/president-chatbot/myenv/lib/python3.11/site-packages/tensorflow/python/util/dispatch.py\u001b[39m in \u001b[36m?\u001b[39m\u001b[34m(*args, **kwargs)\u001b[39m\n\u001b[32m   1257\u001b[39m \n\u001b[32m   1258\u001b[39m       \u001b[38;5;66;03m# Fallback dispatch system (dispatch v1):\u001b[39;00m\n\u001b[32m   1259\u001b[39m       \u001b[38;5;28;01mtry\u001b[39;00m:\n\u001b[32m   1260\u001b[39m         \u001b[38;5;28;01mreturn\u001b[39;00m dispatch_target(*args, **kwargs)\n\u001b[32m-> \u001b[39m\u001b[32m1261\u001b[39m       \u001b[38;5;28;01mexcept\u001b[39;00m (TypeError, ValueError):\n\u001b[32m   1262\u001b[39m         \u001b[38;5;66;03m# Note: convert_to_eager_tensor currently raises a ValueError, not a\u001b[39;00m\n\u001b[32m   1263\u001b[39m         \u001b[38;5;66;03m# TypeError, when given unexpected types.  So we need to catch both.\u001b[39;00m\n\u001b[32m   1264\u001b[39m         result = dispatch(op_dispatch_handler, args, kwargs)\n",
      "\u001b[32m~/Desktop/president-chatbot/myenv/lib/python3.11/site-packages/tensorflow/python/ops/nn_ops.py\u001b[39m in \u001b[36m?\u001b[39m\u001b[34m(logits, axis, name)\u001b[39m\n\u001b[32m   3903\u001b[39m       dimension of `logits`.\n\u001b[32m   3904\u001b[39m   \"\"\"\n\u001b[32m   3905\u001b[39m   \u001b[38;5;28;01mif\u001b[39;00m axis \u001b[38;5;28;01mis\u001b[39;00m \u001b[38;5;28;01mNone\u001b[39;00m:\n\u001b[32m   3906\u001b[39m     axis = -\u001b[32m1\u001b[39m\n\u001b[32m-> \u001b[39m\u001b[32m3907\u001b[39m   \u001b[38;5;28;01mreturn\u001b[39;00m _wrap_2d_function(logits, gen_nn_ops.softmax, axis, name)\n",
      "\u001b[32m~/Desktop/president-chatbot/myenv/lib/python3.11/site-packages/tensorflow/python/ops/nn_ops.py\u001b[39m in \u001b[36m?\u001b[39m\u001b[34m(inputs, compute_op, dim, name)\u001b[39m\n\u001b[32m   3821\u001b[39m   shape = inputs.get_shape()\n\u001b[32m   3822\u001b[39m   is_last_dim = (dim == -\u001b[32m1\u001b[39m) \u001b[38;5;28;01mor\u001b[39;00m (dim == shape.ndims - \u001b[32m1\u001b[39m)\n\u001b[32m   3823\u001b[39m \n\u001b[32m   3824\u001b[39m   \u001b[38;5;28;01mif\u001b[39;00m is_last_dim:\n\u001b[32m-> \u001b[39m\u001b[32m3825\u001b[39m     \u001b[38;5;28;01mreturn\u001b[39;00m compute_op(inputs, name=name)\n\u001b[32m   3826\u001b[39m \n\u001b[32m   3827\u001b[39m   dim_val = dim\n\u001b[32m   3828\u001b[39m   \u001b[38;5;28;01mif\u001b[39;00m isinstance(dim, tensor_lib.Tensor):\n",
      "\u001b[32m~/Desktop/president-chatbot/myenv/lib/python3.11/site-packages/tensorflow/python/ops/gen_nn_ops.py\u001b[39m in \u001b[36m?\u001b[39m\u001b[34m(logits, name)\u001b[39m\n\u001b[32m  11999\u001b[39m         _ctx, \"Softmax\", name, logits)\n\u001b[32m  12000\u001b[39m       \u001b[38;5;28;01mreturn\u001b[39;00m _result\n\u001b[32m  12001\u001b[39m     \u001b[38;5;28;01mexcept\u001b[39;00m _core._NotOkStatusException \u001b[38;5;28;01mas\u001b[39;00m e:\n\u001b[32m  12002\u001b[39m       _ops.raise_from_not_ok_status(e, name)\n\u001b[32m> \u001b[39m\u001b[32m12003\u001b[39m     \u001b[38;5;28;01mexcept\u001b[39;00m _core._FallbackException:\n\u001b[32m  12004\u001b[39m       \u001b[38;5;28;01mpass\u001b[39;00m\n\u001b[32m  12005\u001b[39m     \u001b[38;5;28;01mtry\u001b[39;00m:\n\u001b[32m  12006\u001b[39m       return softmax_eager_fallback(\n",
      "\u001b[31mKeyboardInterrupt\u001b[39m: "
     ]
    }
   ],
   "source": [
    "inputs = tokenizerBert(cleaned_texts, padding=True, truncation=True, return_tensors=\"tf\")\n",
    "outputs = modelBert(inputs)"
   ]
  },
  {
   "cell_type": "code",
   "execution_count": 55,
   "metadata": {},
   "outputs": [
    {
     "name": "stdout",
     "output_type": "stream",
     "text": [
      "Epoch 1/5\n",
      "6/6 [==============================] - 122s 19s/step - loss: 7.8841 - accuracy: 0.1844\n",
      "Epoch 2/5\n",
      "6/6 [==============================] - 139s 23s/step - loss: 9.2895 - accuracy: 0.1397\n",
      "Epoch 3/5\n",
      "6/6 [==============================] - 131s 21s/step - loss: 8.5318 - accuracy: 0.1397\n",
      "Epoch 4/5\n",
      "6/6 [==============================] - 158s 27s/step - loss: 8.7483 - accuracy: 0.1285\n",
      "Epoch 5/5\n",
      "6/6 [==============================] - 127s 20s/step - loss: 8.5878 - accuracy: 0.1285\n"
     ]
    }
   ],
   "source": [
    "modelBert.compile(optimizer='adam', loss='sparse_categorical_crossentropy', metrics=['accuracy'])\n",
    "historyBert = modelBert.fit(X_train, y_train, epochs=5, batch_size=32)"
   ]
  },
  {
   "cell_type": "code",
   "execution_count": 56,
   "metadata": {},
   "outputs": [
    {
     "ename": "KeyError",
     "evalue": "'val_loss'",
     "output_type": "error",
     "traceback": [
      "\u001b[31m---------------------------------------------------------------------------\u001b[39m",
      "\u001b[31mKeyError\u001b[39m                                  Traceback (most recent call last)",
      "\u001b[36mCell\u001b[39m\u001b[36m \u001b[39m\u001b[32mIn[56]\u001b[39m\u001b[32m, line 5\u001b[39m\n\u001b[32m      3\u001b[39m plt.subplot(\u001b[32m1\u001b[39m, \u001b[32m2\u001b[39m, \u001b[32m1\u001b[39m)\n\u001b[32m      4\u001b[39m plt.plot(historyBert.history[\u001b[33m'\u001b[39m\u001b[33mloss\u001b[39m\u001b[33m'\u001b[39m], label=\u001b[33m'\u001b[39m\u001b[33mTraining Loss\u001b[39m\u001b[33m'\u001b[39m)\n\u001b[32m----> \u001b[39m\u001b[32m5\u001b[39m plt.plot(\u001b[43mhistoryBert\u001b[49m\u001b[43m.\u001b[49m\u001b[43mhistory\u001b[49m\u001b[43m[\u001b[49m\u001b[33;43m'\u001b[39;49m\u001b[33;43mval_loss\u001b[39;49m\u001b[33;43m'\u001b[39;49m\u001b[43m]\u001b[49m, label=\u001b[33m'\u001b[39m\u001b[33mValidation Loss\u001b[39m\u001b[33m'\u001b[39m)\n\u001b[32m      6\u001b[39m plt.title(\u001b[33m'\u001b[39m\u001b[33mModel Loss\u001b[39m\u001b[33m'\u001b[39m)\n\u001b[32m      7\u001b[39m plt.xlabel(\u001b[33m'\u001b[39m\u001b[33mEpochs\u001b[39m\u001b[33m'\u001b[39m)\n",
      "\u001b[31mKeyError\u001b[39m: 'val_loss'"
     ]
    },
    {
     "data": {
      "image/png": "[encoded data removed]",
      "text/plain": [
       "<Figure size 1200x600 with 1 Axes>"
      ]
     },
     "metadata": {},
     "output_type": "display_data"
    }
   ],
   "source": [
    "plt.figure(figsize=(12, 6))\n",
    "\n",
    "plt.subplot(1, 2, 1)\n",
    "plt.plot(historyBert.history['loss'], label='Training Loss')\n",
    "plt.plot(historyBert.history['val_loss'], label='Validation Loss')\n",
    "plt.title('Model Loss')\n",
    "plt.xlabel('Epochs')\n",
    "plt.ylabel('Loss')\n",
    "plt.legend()"
   ]
  },
  {
   "cell_type": "code",
   "execution_count": 57,
   "metadata": {},
   "outputs": [
    {
     "ename": "KeyError",
     "evalue": "'val_accuracy'",
     "output_type": "error",
     "traceback": [
      "\u001b[31m---------------------------------------------------------------------------\u001b[39m",
      "\u001b[31mKeyError\u001b[39m                                  Traceback (most recent call last)",
      "\u001b[36mCell\u001b[39m\u001b[36m \u001b[39m\u001b[32mIn[57]\u001b[39m\u001b[32m, line 3\u001b[39m\n\u001b[32m      1\u001b[39m plt.subplot(\u001b[32m1\u001b[39m, \u001b[32m2\u001b[39m, \u001b[32m2\u001b[39m)\n\u001b[32m      2\u001b[39m plt.plot(historyBert.history[\u001b[33m'\u001b[39m\u001b[33maccuracy\u001b[39m\u001b[33m'\u001b[39m], label=\u001b[33m'\u001b[39m\u001b[33mTraining Accuracy\u001b[39m\u001b[33m'\u001b[39m)\n\u001b[32m----> \u001b[39m\u001b[32m3\u001b[39m plt.plot(\u001b[43mhistoryBert\u001b[49m\u001b[43m.\u001b[49m\u001b[43mhistory\u001b[49m\u001b[43m[\u001b[49m\u001b[33;43m'\u001b[39;49m\u001b[33;43mval_accuracy\u001b[39;49m\u001b[33;43m'\u001b[39;49m\u001b[43m]\u001b[49m, label=\u001b[33m'\u001b[39m\u001b[33mValidation Accuracy\u001b[39m\u001b[33m'\u001b[39m)\n\u001b[32m      4\u001b[39m plt.title(\u001b[33m'\u001b[39m\u001b[33mModel Accuracy\u001b[39m\u001b[33m'\u001b[39m)\n\u001b[32m      5\u001b[39m plt.xlabel(\u001b[33m'\u001b[39m\u001b[33mEpochs\u001b[39m\u001b[33m'\u001b[39m)\n",
      "\u001b[31mKeyError\u001b[39m: 'val_accuracy'"
     ]
    },
    {
     "data": {
      "image/png": "[encoded data removed]",
      "text/plain": [
       "<Figure size 640x480 with 1 Axes>"
      ]
     },
     "metadata": {},
     "output_type": "display_data"
    }
   ],
   "source": [
    "plt.subplot(1, 2, 2)\n",
    "plt.plot(historyBert.history['accuracy'], label='Training Accuracy')\n",
    "plt.plot(historyBert.history['val_accuracy'], label='Validation Accuracy')\n",
    "plt.title('Model Accuracy')\n",
    "plt.xlabel('Epochs')\n",
    "plt.ylabel('Accuracy')\n",
    "plt.legend()"
   ]
  },
  {
   "cell_type": "code",
   "execution_count": null,
   "metadata": {},
   "outputs": [],
   "source": [
    "plt.tight_layout()\n",
    "plt.show()"
   ]
  }
 ],
 "metadata": {
  "kernelspec": {
   "display_name": "myenv",
   "language": "python",
   "name": "python3"
  },
  "language_info": {
   "codemirror_mode": {
    "name": "ipython",
    "version": 3
   },
   "file_extension": ".py",
   "mimetype": "text/x-python",
   "name": "python",
   "nbconvert_exporter": "python",
   "pygments_lexer": "ipython3",
   "version": "3.11.11"
  }
 },
 "nbformat": 4,
 "nbformat_minor": 2
}
