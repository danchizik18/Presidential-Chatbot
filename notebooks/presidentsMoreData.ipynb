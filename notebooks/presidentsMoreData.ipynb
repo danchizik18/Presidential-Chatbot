{
 "cells": [
  {
   "cell_type": "markdown",
   "metadata": {},
   "source": [
    "# Now trying logistic regression  but with more data"
   ]
  },
  {
   "cell_type": "code",
   "execution_count": 10,
   "metadata": {},
   "outputs": [],
   "source": [
    "import os\n",
    "import re\n",
    "import string\n",
    "from sklearn.feature_extraction.text import TfidfVectorizer\n",
    "from sklearn.model_selection import train_test_split\n",
    "from sklearn.naive_bayes import MultinomialNB\n",
    "from sklearn.metrics import classification_report\n",
    "from sklearn.linear_model import LogisticRegression\n",
    "from sklearn.model_selection import StratifiedKFold, cross_val_score\n",
    "from sklearn.model_selection import GridSearchCV\n",
    "from sklearn.model_selection import cross_val_predict\n",
    "from sklearn.metrics import confusion_matrix\n"
   ]
  },
  {
   "cell_type": "code",
   "execution_count": 11,
   "metadata": {},
   "outputs": [
    {
     "name": "stdout",
     "output_type": "stream",
     "text": [
      "Total examples: 224\n"
     ]
    }
   ],
   "source": [
    "import os\n",
    "\n",
    "data_folder = '../data'  \n",
    "presidents = ['teddy', 'washington', 'adams', 'jefferson', 'madison', 'lincoln', 'FDR']\n",
    "\n",
    "data = []\n",
    "\n",
    "# Loop through each president folder and read the text files\n",
    "for president in presidents:\n",
    "    president_folder = os.path.join(data_folder, president)  \n",
    "    for filename in os.listdir(president_folder):\n",
    "        if filename.endswith('.txt'):  \n",
    "            file_path = os.path.join(president_folder, filename)\n",
    "            with open(file_path, 'r', encoding='utf-8') as file:\n",
    "                text = file.read()\n",
    "                data.append((text, president)) \n",
    "\n",
    "print(f\"Total examples: {len(data)}\")\n"
   ]
  },
  {
   "cell_type": "code",
   "execution_count": 12,
   "metadata": {},
   "outputs": [
    {
     "name": "stdout",
     "output_type": "stream",
     "text": [
      "\n",
      "Number of files per president:\n",
      "teddy: 23\n",
      "washington: 29\n",
      "adams: 16\n",
      "jefferson: 56\n",
      "madison: 29\n",
      "lincoln: 43\n",
      "FDR: 28\n",
      "\n",
      "Number of words per president:\n",
      "teddy: 47453\n",
      "washington: 29253\n",
      "adams: 15552\n",
      "jefferson: 171449\n",
      "madison: 65994\n",
      "lincoln: 50596\n",
      "FDR: 55354\n"
     ]
    }
   ],
   "source": [
    "file_counts = {}\n",
    "word_counts = {}\n",
    "\n",
    "for president in presidents:\n",
    "    president_folder = os.path.join(data_folder, president)  \n",
    "    file_counts[president] = 0\n",
    "    word_counts[president] = 0\n",
    "\n",
    "    for filename in os.listdir(president_folder):\n",
    "        if filename.endswith('.txt'):\n",
    "            file_counts[president] += 1\n",
    "\n",
    "            file_path = os.path.join(president_folder, filename)\n",
    "            with open(file_path, 'r', encoding='utf-8') as file:\n",
    "                text = file.read()\n",
    "                word_counts[president] += len(text.split())\n",
    "\n",
    "print(\"\\nNumber of files per president:\")\n",
    "for president, count in file_counts.items():\n",
    "    print(f\"{president}: {count}\")\n",
    "\n",
    "print(\"\\nNumber of words per president:\")\n",
    "for president, count in word_counts.items():\n",
    "    print(f\"{president}: {count}\")\n"
   ]
  },
  {
   "cell_type": "code",
   "execution_count": 13,
   "metadata": {},
   "outputs": [],
   "source": [
    "def clean_text(text):\n",
    "    text = re.sub(f\"[{string.punctuation}]\", \"\", text)\n",
    "    text = ' '.join(text.split())\n",
    "    text = text.lower()\n",
    "    return text"
   ]
  },
  {
   "cell_type": "code",
   "execution_count": 14,
   "metadata": {},
   "outputs": [],
   "source": [
    "texts, labels = zip(*data)  \n",
    "cleaned_texts = [clean_text(text) for text in texts]"
   ]
  },
  {
   "cell_type": "code",
   "execution_count": 15,
   "metadata": {},
   "outputs": [
    {
     "name": "stdout",
     "output_type": "stream",
     "text": [
      "Training data: 179 examples\n",
      "Testing data: 45 examples\n"
     ]
    }
   ],
   "source": [
    "\n",
    "\n",
    "X_train, X_test, y_train, y_test = train_test_split(cleaned_texts, labels, test_size=0.2, random_state=42)\n",
    "\n",
    "print(f\"Training data: {len(X_train)} examples\")\n",
    "print(f\"Testing data: {len(X_test)} examples\")\n"
   ]
  },
  {
   "cell_type": "code",
   "execution_count": 16,
   "metadata": {},
   "outputs": [],
   "source": [
    "vectorizerLogisticRegression = TfidfVectorizer(stop_words='english', ngram_range=(1, 2))  \n",
    "X_tfidf2 = vectorizerLogisticRegression.fit_transform(X_train) \n",
    "y2 = y_train "
   ]
  },
  {
   "cell_type": "code",
   "execution_count": 17,
   "metadata": {},
   "outputs": [
    {
     "name": "stdout",
     "output_type": "stream",
     "text": [
      "Cross-validation scores: [0.63888889 0.52777778 0.52777778 0.47222222 0.45714286]\n",
      "Average accuracy: 0.5247619047619048\n"
     ]
    }
   ],
   "source": [
    "modelLogisticRegression = LogisticRegression(max_iter=1000)\n",
    "\n",
    "cvLogisticRegression = StratifiedKFold(n_splits=5, shuffle=True, random_state=42)\n",
    "\n",
    "scoresLogisticRegression = cross_val_score(modelLogisticRegression, X_tfidf2, y2, cv=cvLogisticRegression, scoring='accuracy')\n",
    "\n",
    "print(f\"Cross-validation scores: {scoresLogisticRegression}\")\n",
    "print(f\"Average accuracy: {scoresLogisticRegression.mean()}\")"
   ]
  },
  {
   "cell_type": "code",
   "execution_count": 18,
   "metadata": {},
   "outputs": [
    {
     "name": "stdout",
     "output_type": "stream",
     "text": [
      "Cross-validation F1-macro scores: [0.61128527 0.48163265 0.4622449  0.4223356  0.39447279]\n",
      "Average F1-macro: 0.4743942415001528\n"
     ]
    }
   ],
   "source": [
    "f1_scores = cross_val_score(modelLogisticRegression, X_tfidf2, y2, cv=cvLogisticRegression, scoring='f1_macro')\n",
    "print(f\"Cross-validation F1-macro scores: {f1_scores}\")\n",
    "print(f\"Average F1-macro: {f1_scores.mean()}\")"
   ]
  },
  {
   "cell_type": "code",
   "execution_count": 19,
   "metadata": {},
   "outputs": [
    {
     "name": "stdout",
     "output_type": "stream",
     "text": [
      "[[23  0  0  0  0  0  0]\n",
      " [ 1  2  4  0  1  0  5]\n",
      " [ 0  0 39  0  0  0  2]\n",
      " [ 2  0  7 23  1  0  0]\n",
      " [ 0  0  2  0 19  0  3]\n",
      " [ 3  0  0  1  0 14  1]\n",
      " [ 2  0  4  0  2  0 18]]\n",
      "              precision    recall  f1-score   support\n",
      "\n",
      "         FDR       0.74      1.00      0.85        23\n",
      "       adams       1.00      0.15      0.27        13\n",
      "   jefferson       0.70      0.95      0.80        41\n",
      "     lincoln       0.96      0.70      0.81        33\n",
      "     madison       0.83      0.79      0.81        24\n",
      "       teddy       1.00      0.74      0.85        19\n",
      "  washington       0.62      0.69      0.65        26\n",
      "\n",
      "    accuracy                           0.77       179\n",
      "   macro avg       0.83      0.72      0.72       179\n",
      "weighted avg       0.81      0.77      0.76       179\n",
      "\n"
     ]
    }
   ],
   "source": [
    "y_pred = cross_val_predict(LogisticRegression(C=10), X_tfidf2, y2, cv=5)\n",
    "print(confusion_matrix(y2, y_pred))\n",
    "print(classification_report(y2, y_pred))"
   ]
  }
 ],
 "metadata": {
  "kernelspec": {
   "display_name": "myenv",
   "language": "python",
   "name": "python3"
  },
  "language_info": {
   "codemirror_mode": {
    "name": "ipython",
    "version": 3
   },
   "file_extension": ".py",
   "mimetype": "text/x-python",
   "name": "python",
   "nbconvert_exporter": "python",
   "pygments_lexer": "ipython3",
   "version": "3.11.11"
  }
 },
 "nbformat": 4,
 "nbformat_minor": 2
}
