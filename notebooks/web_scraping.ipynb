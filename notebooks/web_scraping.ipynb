{
 "cells": [
  {
   "cell_type": "code",
   "execution_count": 1,
   "metadata": {},
   "outputs": [],
   "source": [
    "import os\n",
    "import requests\n",
    "from bs4 import BeautifulSoup\n",
    "from datetime import datetime"
   ]
  },
  {
   "cell_type": "code",
   "execution_count": 2,
   "metadata": {},
   "outputs": [],
   "source": [
    "base_path = 'data/'\n",
    "president_folders = ['adams', 'jefferson', 'lincoln', 'madison', 'teddy', 'washington']"
   ]
  },
  {
   "cell_type": "code",
   "execution_count": 3,
   "metadata": {},
   "outputs": [],
   "source": [
    "def scrape_and_save(president_name, url):\n",
    "    response = requests.get(url)\n",
    "    \n",
    "    if response.status_code != 200:\n",
    "        print(f\"Failed to retrieve the page: {url}\")\n",
    "        return\n",
    "    \n",
    "    soup = BeautifulSoup(response.text, 'html.parser')\n",
    "  \n",
    "    title = soup.title.string.strip() if soup.title else \"no_title\"\n",
    "    content = soup.get_text()\n",
    "    president_folder_path = os.path.join(base_path, president_name)\n",
    "    if not os.path.exists(president_folder_path):\n",
    "        os.makedirs(president_folder_path)\n",
    "    timestamp = datetime.now().strftime('%Y%m%d%H%M%S')\n",
    "    filename = f\"{president_name}_{timestamp}.txt\"\n",
    "    file_path = os.path.join(president_folder_path, filename)\n",
    "    \n",
    "    with open(file_path, 'w', encoding='utf-8') as file:\n",
    "        file.write(f\"Title: {title}\\n\")\n",
    "        file.write(content)\n",
    "\n",
    "    print(f\"Saved new file: {file_path}\")"
   ]
  },
  {
   "cell_type": "code",
   "execution_count": 4,
   "metadata": {},
   "outputs": [
    {
     "name": "stdout",
     "output_type": "stream",
     "text": [
      "Saved new file: data/adams/adams_20250302111216.txt\n"
     ]
    }
   ],
   "source": [
    "scrape_and_save('adams', 'https://founders.archives.gov/?q=%20Author%3A%22Adams%2C%20John%22&s=1111211111&r=1')"
   ]
  },
  {
   "cell_type": "code",
   "execution_count": null,
   "metadata": {},
   "outputs": [],
   "source": []
  }
 ],
 "metadata": {
  "kernelspec": {
   "display_name": "myenv",
   "language": "python",
   "name": "python3"
  },
  "language_info": {
   "codemirror_mode": {
    "name": "ipython",
    "version": 3
   },
   "file_extension": ".py",
   "mimetype": "text/x-python",
   "name": "python",
   "nbconvert_exporter": "python",
   "pygments_lexer": "ipython3",
   "version": "3.11.11"
  }
 },
 "nbformat": 4,
 "nbformat_minor": 2
}
