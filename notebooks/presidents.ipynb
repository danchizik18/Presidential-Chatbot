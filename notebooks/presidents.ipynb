{
 "cells": [
  {
   "cell_type": "markdown",
   "metadata": {},
   "source": [
    "# 1. Imports"
   ]
  },
  {
   "cell_type": "code",
   "execution_count": 1,
   "metadata": {},
   "outputs": [],
   "source": [
    "import os\n",
    "import re\n",
    "import string\n",
    "from sklearn.feature_extraction.text import TfidfVectorizer\n",
    "from sklearn.model_selection import train_test_split\n",
    "from sklearn.naive_bayes import MultinomialNB\n",
    "from sklearn.metrics import classification_report\n",
    "from sklearn.linear_model import LogisticRegression\n",
    "from sklearn.model_selection import StratifiedKFold, cross_val_score\n"
   ]
  },
  {
   "cell_type": "markdown",
   "metadata": {},
   "source": [
    "# 2. Load all the data in the .txt files (text obtained from https://www.presidency.ucsb.edu/)"
   ]
  },
  {
   "cell_type": "code",
   "execution_count": 2,
   "metadata": {},
   "outputs": [
    {
     "name": "stdout",
     "output_type": "stream",
     "text": [
      "Total examples: 169\n"
     ]
    }
   ],
   "source": [
    "import os\n",
    "\n",
    "data_folder = '../data'  \n",
    "presidents = ['teddy', 'washington', 'adams', 'jefferson', 'madison', 'lincoln', 'FDR']\n",
    "\n",
    "data = []\n",
    "\n",
    "# Loop through each president folder and read the text files\n",
    "for president in presidents:\n",
    "    president_folder = os.path.join(data_folder, president)  \n",
    "    for filename in os.listdir(president_folder):\n",
    "        if filename.endswith('.txt'):  \n",
    "            file_path = os.path.join(president_folder, filename)\n",
    "            with open(file_path, 'r', encoding='utf-8') as file:\n",
    "                text = file.read()\n",
    "                data.append((text, president)) \n",
    "\n",
    "print(f\"Total examples: {len(data)}\")\n"
   ]
  },
  {
   "cell_type": "markdown",
   "metadata": {},
   "source": [
    "# Number of files and words per president"
   ]
  },
  {
   "cell_type": "code",
   "execution_count": 3,
   "metadata": {},
   "outputs": [
    {
     "name": "stdout",
     "output_type": "stream",
     "text": [
      "\n",
      "Number of files per president:\n",
      "teddy: 23\n",
      "washington: 29\n",
      "adams: 15\n",
      "jefferson: 11\n",
      "madison: 29\n",
      "lincoln: 43\n",
      "FDR: 19\n",
      "\n",
      "Number of words per president:\n",
      "teddy: 47453\n",
      "washington: 29253\n",
      "adams: 15264\n",
      "jefferson: 18589\n",
      "madison: 65994\n",
      "lincoln: 50596\n",
      "FDR: 45277\n"
     ]
    }
   ],
   "source": [
    "file_counts = {}\n",
    "word_counts = {}\n",
    "\n",
    "for president in presidents:\n",
    "    president_folder = os.path.join(data_folder, president)  \n",
    "    file_counts[president] = 0\n",
    "    word_counts[president] = 0\n",
    "\n",
    "    for filename in os.listdir(president_folder):\n",
    "        if filename.endswith('.txt'):\n",
    "            file_counts[president] += 1\n",
    "\n",
    "            file_path = os.path.join(president_folder, filename)\n",
    "            with open(file_path, 'r', encoding='utf-8') as file:\n",
    "                text = file.read()\n",
    "                word_counts[president] += len(text.split())\n",
    "\n",
    "print(\"\\nNumber of files per president:\")\n",
    "for president, count in file_counts.items():\n",
    "    print(f\"{president}: {count}\")\n",
    "\n",
    "print(\"\\nNumber of words per president:\")\n",
    "for president, count in word_counts.items():\n",
    "    print(f\"{president}: {count}\")\n"
   ]
  },
  {
   "cell_type": "markdown",
   "metadata": {},
   "source": [
    "# 3. Clean the text using regex"
   ]
  },
  {
   "cell_type": "code",
   "execution_count": 4,
   "metadata": {},
   "outputs": [],
   "source": [
    "def clean_text(text):\n",
    "    text = re.sub(f\"[{string.punctuation}]\", \"\", text)\n",
    "    text = ' '.join(text.split())\n",
    "    text = text.lower()\n",
    "    return text"
   ]
  },
  {
   "cell_type": "code",
   "execution_count": 5,
   "metadata": {},
   "outputs": [],
   "source": [
    "texts, labels = zip(*data)  \n",
    "cleaned_texts = [clean_text(text) for text in texts]"
   ]
  },
  {
   "cell_type": "code",
   "execution_count": 6,
   "metadata": {},
   "outputs": [
    {
     "name": "stdout",
     "output_type": "stream",
     "text": [
      "Training data: 135 examples\n",
      "Testing data: 34 examples\n"
     ]
    }
   ],
   "source": [
    "X_train, X_test, y_train, y_test = train_test_split(cleaned_texts, labels, test_size=0.2, random_state=42)\n",
    "\n",
    "print(f\"Training data: {len(X_train)} examples\")\n",
    "print(f\"Testing data: {len(X_test)} examples\")\n"
   ]
  },
  {
   "cell_type": "markdown",
   "metadata": {},
   "source": [
    "# MultinomialMB"
   ]
  },
  {
   "cell_type": "code",
   "execution_count": 7,
   "metadata": {},
   "outputs": [
    {
     "name": "stdout",
     "output_type": "stream",
     "text": [
      "X_train_tfidf shape: (135, 5000)\n",
      "X_test_tfidf shape: (34, 5000)\n"
     ]
    }
   ],
   "source": [
    "vectorizer = TfidfVectorizer(max_features=5000) \n",
    "\n",
    "X_train_tfidf = vectorizer.fit_transform(X_train)\n",
    "X_test_tfidf = vectorizer.transform(X_test)\n",
    "\n",
    "print(f\"X_train_tfidf shape: {X_train_tfidf.shape}\")\n",
    "print(f\"X_test_tfidf shape: {X_test_tfidf.shape}\")\n"
   ]
  },
  {
   "cell_type": "code",
   "execution_count": 8,
   "metadata": {},
   "outputs": [
    {
     "name": "stdout",
     "output_type": "stream",
     "text": [
      "              precision    recall  f1-score   support\n",
      "\n",
      "         FDR       0.00      0.00      0.00         4\n",
      "       adams       0.00      0.00      0.00         3\n",
      "   jefferson       0.00      0.00      0.00         3\n",
      "     lincoln       0.21      1.00      0.35         7\n",
      "     madison       0.00      0.00      0.00         4\n",
      "       teddy       1.00      0.17      0.29         6\n",
      "  washington       0.00      0.00      0.00         7\n",
      "\n",
      "    accuracy                           0.24        34\n",
      "   macro avg       0.17      0.17      0.09        34\n",
      "weighted avg       0.22      0.24      0.12        34\n",
      "\n"
     ]
    },
    {
     "name": "stderr",
     "output_type": "stream",
     "text": [
      "/Users/danchizik/Desktop/president-chatbot/myenv/lib/python3.11/site-packages/sklearn/metrics/_classification.py:1565: UndefinedMetricWarning: Precision is ill-defined and being set to 0.0 in labels with no predicted samples. Use `zero_division` parameter to control this behavior.\n",
      "  _warn_prf(average, modifier, f\"{metric.capitalize()} is\", len(result))\n",
      "/Users/danchizik/Desktop/president-chatbot/myenv/lib/python3.11/site-packages/sklearn/metrics/_classification.py:1565: UndefinedMetricWarning: Precision is ill-defined and being set to 0.0 in labels with no predicted samples. Use `zero_division` parameter to control this behavior.\n",
      "  _warn_prf(average, modifier, f\"{metric.capitalize()} is\", len(result))\n",
      "/Users/danchizik/Desktop/president-chatbot/myenv/lib/python3.11/site-packages/sklearn/metrics/_classification.py:1565: UndefinedMetricWarning: Precision is ill-defined and being set to 0.0 in labels with no predicted samples. Use `zero_division` parameter to control this behavior.\n",
      "  _warn_prf(average, modifier, f\"{metric.capitalize()} is\", len(result))\n"
     ]
    }
   ],
   "source": [
    "modelMMB = MultinomialNB()\n",
    "\n",
    "modelMMB.fit(X_train_tfidf, y_train)\n",
    "\n",
    "y_pred = modelMMB.predict(X_test_tfidf)\n",
    "print(classification_report(y_test, y_pred))"
   ]
  },
  {
   "cell_type": "markdown",
   "metadata": {},
   "source": [
    "# Logisitc Regression"
   ]
  },
  {
   "cell_type": "code",
   "execution_count": 11,
   "metadata": {},
   "outputs": [],
   "source": [
    "vectorizerLogisticRegression = TfidfVectorizer(stop_words='english', ngram_range=(1, 2))  \n",
    "X_tfidf2 = vectorizerLogisticRegression.fit_transform(X_train) \n",
    "y2 = y_train "
   ]
  },
  {
   "cell_type": "code",
   "execution_count": 12,
   "metadata": {},
   "outputs": [
    {
     "name": "stdout",
     "output_type": "stream",
     "text": [
      "Cross-validation scores: [0.55555556 0.59259259 0.40740741 0.62962963 0.33333333]\n",
      "Average accuracy: 0.5037037037037038\n"
     ]
    }
   ],
   "source": [
    "modelLogisticRegression = LogisticRegression(max_iter=1000)\n",
    "\n",
    "cvLogisticRegression = StratifiedKFold(n_splits=5, shuffle=True, random_state=42)\n",
    "\n",
    "scoresLogisticRegression = cross_val_score(modelLogisticRegression, X_tfidf2, y2, cv=cvLogisticRegression, scoring='accuracy')\n",
    "\n",
    "print(f\"Cross-validation scores: {scoresLogisticRegression}\")\n",
    "print(f\"Average accuracy: {scoresLogisticRegression.mean()}\")"
   ]
  },
  {
   "cell_type": "code",
   "execution_count": null,
   "metadata": {},
   "outputs": [],
   "source": []
  }
 ],
 "metadata": {
  "kernelspec": {
   "display_name": "myenv",
   "language": "python",
   "name": "python3"
  },
  "language_info": {
   "codemirror_mode": {
    "name": "ipython",
    "version": 3
   },
   "file_extension": ".py",
   "mimetype": "text/x-python",
   "name": "python",
   "nbconvert_exporter": "python",
   "pygments_lexer": "ipython3",
   "version": "3.11.11"
  }
 },
 "nbformat": 4,
 "nbformat_minor": 2
}
