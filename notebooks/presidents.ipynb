{
 "cells": [
  {
   "cell_type": "markdown",
   "metadata": {},
   "source": [
    "# 1. Imports"
   ]
  },
  {
   "cell_type": "code",
   "execution_count": 18,
   "metadata": {},
   "outputs": [],
   "source": [
    "import os\n",
    "import re\n",
    "import string\n",
    "from sklearn.feature_extraction.text import TfidfVectorizer\n",
    "from sklearn.model_selection import train_test_split\n",
    "from sklearn.naive_bayes import MultinomialNB\n",
    "from sklearn.metrics import classification_report\n",
    "from sklearn.linear_model import LogisticRegression\n",
    "from sklearn.model_selection import StratifiedKFold, cross_val_score\n",
    "from sklearn.model_selection import GridSearchCV\n",
    "from sklearn.model_selection import cross_val_predict\n",
    "from sklearn.metrics import confusion_matrix\n"
   ]
  },
  {
   "cell_type": "markdown",
   "metadata": {},
   "source": [
    "# 2. Load all the data in the .txt files (text obtained from https://www.presidency.ucsb.edu/)"
   ]
  },
  {
   "cell_type": "code",
   "execution_count": 2,
   "metadata": {},
   "outputs": [
    {
     "name": "stdout",
     "output_type": "stream",
     "text": [
      "Total examples: 169\n"
     ]
    }
   ],
   "source": [
    "import os\n",
    "\n",
    "data_folder = '../data'  \n",
    "presidents = ['teddy', 'washington', 'adams', 'jefferson', 'madison', 'lincoln', 'FDR']\n",
    "\n",
    "data = []\n",
    "\n",
    "# Loop through each president folder and read the text files\n",
    "for president in presidents:\n",
    "    president_folder = os.path.join(data_folder, president)  \n",
    "    for filename in os.listdir(president_folder):\n",
    "        if filename.endswith('.txt'):  \n",
    "            file_path = os.path.join(president_folder, filename)\n",
    "            with open(file_path, 'r', encoding='utf-8') as file:\n",
    "                text = file.read()\n",
    "                data.append((text, president)) \n",
    "\n",
    "print(f\"Total examples: {len(data)}\")\n"
   ]
  },
  {
   "cell_type": "markdown",
   "metadata": {},
   "source": [
    "# Number of files and words per president"
   ]
  },
  {
   "cell_type": "code",
   "execution_count": 3,
   "metadata": {},
   "outputs": [
    {
     "name": "stdout",
     "output_type": "stream",
     "text": [
      "\n",
      "Number of files per president:\n",
      "teddy: 23\n",
      "washington: 29\n",
      "adams: 15\n",
      "jefferson: 11\n",
      "madison: 29\n",
      "lincoln: 43\n",
      "FDR: 19\n",
      "\n",
      "Number of words per president:\n",
      "teddy: 47453\n",
      "washington: 29253\n",
      "adams: 15264\n",
      "jefferson: 18589\n",
      "madison: 65994\n",
      "lincoln: 50596\n",
      "FDR: 45277\n"
     ]
    }
   ],
   "source": [
    "file_counts = {}\n",
    "word_counts = {}\n",
    "\n",
    "for president in presidents:\n",
    "    president_folder = os.path.join(data_folder, president)  \n",
    "    file_counts[president] = 0\n",
    "    word_counts[president] = 0\n",
    "\n",
    "    for filename in os.listdir(president_folder):\n",
    "        if filename.endswith('.txt'):\n",
    "            file_counts[president] += 1\n",
    "\n",
    "            file_path = os.path.join(president_folder, filename)\n",
    "            with open(file_path, 'r', encoding='utf-8') as file:\n",
    "                text = file.read()\n",
    "                word_counts[president] += len(text.split())\n",
    "\n",
    "print(\"\\nNumber of files per president:\")\n",
    "for president, count in file_counts.items():\n",
    "    print(f\"{president}: {count}\")\n",
    "\n",
    "print(\"\\nNumber of words per president:\")\n",
    "for president, count in word_counts.items():\n",
    "    print(f\"{president}: {count}\")\n"
   ]
  },
  {
   "cell_type": "markdown",
   "metadata": {},
   "source": [
    "# 3. Clean the text using regex"
   ]
  },
  {
   "cell_type": "code",
   "execution_count": 4,
   "metadata": {},
   "outputs": [],
   "source": [
    "def clean_text(text):\n",
    "    text = re.sub(f\"[{string.punctuation}]\", \"\", text)\n",
    "    text = ' '.join(text.split())\n",
    "    text = text.lower()\n",
    "    return text"
   ]
  },
  {
   "cell_type": "code",
   "execution_count": 5,
   "metadata": {},
   "outputs": [],
   "source": [
    "texts, labels = zip(*data)  \n",
    "cleaned_texts = [clean_text(text) for text in texts]"
   ]
  },
  {
   "cell_type": "code",
   "execution_count": 6,
   "metadata": {},
   "outputs": [
    {
     "name": "stdout",
     "output_type": "stream",
     "text": [
      "Training data: 135 examples\n",
      "Testing data: 34 examples\n"
     ]
    }
   ],
   "source": [
    "\n",
    "\n",
    "X_train, X_test, y_train, y_test = train_test_split(cleaned_texts, labels, test_size=0.2, random_state=42)\n",
    "\n",
    "print(f\"Training data: {len(X_train)} examples\")\n",
    "print(f\"Testing data: {len(X_test)} examples\")\n"
   ]
  },
  {
   "cell_type": "markdown",
   "metadata": {},
   "source": [
    "# MultinomialMB"
   ]
  },
  {
   "cell_type": "code",
   "execution_count": 7,
   "metadata": {},
   "outputs": [
    {
     "name": "stdout",
     "output_type": "stream",
     "text": [
      "X_train_tfidf shape: (135, 5000)\n",
      "X_test_tfidf shape: (34, 5000)\n"
     ]
    }
   ],
   "source": [
    "vectorizer = TfidfVectorizer(max_features=5000) \n",
    "\n",
    "X_train_tfidf = vectorizer.fit_transform(X_train)\n",
    "X_test_tfidf = vectorizer.transform(X_test)\n",
    "\n",
    "print(f\"X_train_tfidf shape: {X_train_tfidf.shape}\")\n",
    "print(f\"X_test_tfidf shape: {X_test_tfidf.shape}\")\n"
   ]
  },
  {
   "cell_type": "code",
   "execution_count": 8,
   "metadata": {},
   "outputs": [
    {
     "name": "stdout",
     "output_type": "stream",
     "text": [
      "              precision    recall  f1-score   support\n",
      "\n",
      "         FDR       0.00      0.00      0.00         4\n",
      "       adams       0.00      0.00      0.00         3\n",
      "   jefferson       0.00      0.00      0.00         3\n",
      "     lincoln       0.21      1.00      0.35         7\n",
      "     madison       0.00      0.00      0.00         4\n",
      "       teddy       1.00      0.17      0.29         6\n",
      "  washington       0.00      0.00      0.00         7\n",
      "\n",
      "    accuracy                           0.24        34\n",
      "   macro avg       0.17      0.17      0.09        34\n",
      "weighted avg       0.22      0.24      0.12        34\n",
      "\n"
     ]
    },
    {
     "name": "stderr",
     "output_type": "stream",
     "text": [
      "/Users/danchizik/Desktop/president-chatbot/myenv/lib/python3.11/site-packages/sklearn/metrics/_classification.py:1565: UndefinedMetricWarning: Precision is ill-defined and being set to 0.0 in labels with no predicted samples. Use `zero_division` parameter to control this behavior.\n",
      "  _warn_prf(average, modifier, f\"{metric.capitalize()} is\", len(result))\n",
      "/Users/danchizik/Desktop/president-chatbot/myenv/lib/python3.11/site-packages/sklearn/metrics/_classification.py:1565: UndefinedMetricWarning: Precision is ill-defined and being set to 0.0 in labels with no predicted samples. Use `zero_division` parameter to control this behavior.\n",
      "  _warn_prf(average, modifier, f\"{metric.capitalize()} is\", len(result))\n",
      "/Users/danchizik/Desktop/president-chatbot/myenv/lib/python3.11/site-packages/sklearn/metrics/_classification.py:1565: UndefinedMetricWarning: Precision is ill-defined and being set to 0.0 in labels with no predicted samples. Use `zero_division` parameter to control this behavior.\n",
      "  _warn_prf(average, modifier, f\"{metric.capitalize()} is\", len(result))\n"
     ]
    }
   ],
   "source": [
    "modelMMB = MultinomialNB()\n",
    "\n",
    "modelMMB.fit(X_train_tfidf, y_train)\n",
    "\n",
    "y_pred = modelMMB.predict(X_test_tfidf)\n",
    "print(classification_report(y_test, y_pred))"
   ]
  },
  {
   "cell_type": "markdown",
   "metadata": {},
   "source": [
    "# Logisitc Regression"
   ]
  },
  {
   "cell_type": "code",
   "execution_count": 11,
   "metadata": {},
   "outputs": [],
   "source": [
    "vectorizerLogisticRegression = TfidfVectorizer(stop_words='english', ngram_range=(1, 2))  \n",
    "X_tfidf2 = vectorizerLogisticRegression.fit_transform(X_train) \n",
    "y2 = y_train "
   ]
  },
  {
   "cell_type": "code",
   "execution_count": 12,
   "metadata": {},
   "outputs": [
    {
     "name": "stdout",
     "output_type": "stream",
     "text": [
      "Cross-validation scores: [0.55555556 0.59259259 0.40740741 0.62962963 0.33333333]\n",
      "Average accuracy: 0.5037037037037038\n"
     ]
    }
   ],
   "source": [
    "modelLogisticRegression = LogisticRegression(max_iter=1000)\n",
    "\n",
    "cvLogisticRegression = StratifiedKFold(n_splits=5, shuffle=True, random_state=42)\n",
    "\n",
    "scoresLogisticRegression = cross_val_score(modelLogisticRegression, X_tfidf2, y2, cv=cvLogisticRegression, scoring='accuracy')\n",
    "\n",
    "print(f\"Cross-validation scores: {scoresLogisticRegression}\")\n",
    "print(f\"Average accuracy: {scoresLogisticRegression.mean()}\")"
   ]
  },
  {
   "cell_type": "markdown",
   "metadata": {},
   "source": [
    "# f1_macro"
   ]
  },
  {
   "cell_type": "code",
   "execution_count": 13,
   "metadata": {},
   "outputs": [
    {
     "name": "stdout",
     "output_type": "stream",
     "text": [
      "Cross-validation F1-macro scores: [0.37698413 0.40912183 0.17216117 0.40926899 0.15229885]\n",
      "Average F1-macro: 0.3039669944296203\n"
     ]
    }
   ],
   "source": [
    "f1_scores = cross_val_score(modelLogisticRegression, X_tfidf2, y2, cv=cvLogisticRegression, scoring='f1_macro')\n",
    "print(f\"Cross-validation F1-macro scores: {f1_scores}\")\n",
    "print(f\"Average F1-macro: {f1_scores.mean()}\")"
   ]
  },
  {
   "cell_type": "markdown",
   "metadata": {},
   "source": [
    "# Hyperparameter Tuning"
   ]
  },
  {
   "cell_type": "code",
   "execution_count": null,
   "metadata": {},
   "outputs": [],
   "source": [
    "param_grid = {\n",
    "    'C': [0.001, 0.01, 0.1, 1, 10, 100]\n",
    "}\n",
    "grid = GridSearchCV(LogisticRegression(max_iter=1000, multi_class='multinomial', solver='lbfgs'),\n",
    "                    param_grid, cv=cvLogisticRegression, scoring='f1_macro')\n",
    "grid.fit(X_tfidf2, y2)\n",
    "\n",
    "print(f\"Best params: {grid.best_params_}\")\n",
    "print(f\"Best F1-macro: {grid.best_score_}\")\n"
   ]
  },
  {
   "cell_type": "markdown",
   "metadata": {},
   "source": [
    "# Confusion Matrix"
   ]
  },
  {
   "cell_type": "code",
   "execution_count": 17,
   "metadata": {},
   "outputs": [
    {
     "name": "stdout",
     "output_type": "stream",
     "text": [
      "[[12  0  0  3  0  0  0]\n",
      " [ 0  2  0  6  1  0  3]\n",
      " [ 0  0  0  3  3  0  2]\n",
      " [ 0  0  0 35  0  0  1]\n",
      " [ 0  0  0  0 22  0  3]\n",
      " [ 0  0  0  3  0 13  1]\n",
      " [ 0  0  0  3  3  0 16]]\n",
      "              precision    recall  f1-score   support\n",
      "\n",
      "         FDR       1.00      0.80      0.89        15\n",
      "       adams       1.00      0.17      0.29        12\n",
      "   jefferson       0.00      0.00      0.00         8\n",
      "     lincoln       0.66      0.97      0.79        36\n",
      "     madison       0.76      0.88      0.81        25\n",
      "       teddy       1.00      0.76      0.87        17\n",
      "  washington       0.62      0.73      0.67        22\n",
      "\n",
      "    accuracy                           0.74       135\n",
      "   macro avg       0.72      0.62      0.62       135\n",
      "weighted avg       0.74      0.74      0.70       135\n",
      "\n"
     ]
    },
    {
     "name": "stderr",
     "output_type": "stream",
     "text": [
      "/Users/danchizik/Desktop/president-chatbot/myenv/lib/python3.11/site-packages/sklearn/metrics/_classification.py:1565: UndefinedMetricWarning: Precision is ill-defined and being set to 0.0 in labels with no predicted samples. Use `zero_division` parameter to control this behavior.\n",
      "  _warn_prf(average, modifier, f\"{metric.capitalize()} is\", len(result))\n",
      "/Users/danchizik/Desktop/president-chatbot/myenv/lib/python3.11/site-packages/sklearn/metrics/_classification.py:1565: UndefinedMetricWarning: Precision is ill-defined and being set to 0.0 in labels with no predicted samples. Use `zero_division` parameter to control this behavior.\n",
      "  _warn_prf(average, modifier, f\"{metric.capitalize()} is\", len(result))\n",
      "/Users/danchizik/Desktop/president-chatbot/myenv/lib/python3.11/site-packages/sklearn/metrics/_classification.py:1565: UndefinedMetricWarning: Precision is ill-defined and being set to 0.0 in labels with no predicted samples. Use `zero_division` parameter to control this behavior.\n",
      "  _warn_prf(average, modifier, f\"{metric.capitalize()} is\", len(result))\n"
     ]
    }
   ],
   "source": [
    "y_pred = cross_val_predict(LogisticRegression(C=10), X_tfidf2, y2, cv=5)\n",
    "print(confusion_matrix(y2, y_pred))\n",
    "print(classification_report(y2, y_pred))"
   ]
  },
  {
   "cell_type": "markdown",
   "metadata": {},
   "source": [
    "# Results from confusion matrix:"
   ]
  },
  {
   "cell_type": "markdown",
   "metadata": {},
   "source": [
    "### 1. 0% accuracy for Jefferson (likely because he has very little data)"
   ]
  },
  {
   "cell_type": "markdown",
   "metadata": {},
   "source": [
    "### 2. 100% of the time the model predicted FDR, Adams, or TR it was correct (1.00 precision)"
   ]
  },
  {
   "cell_type": "markdown",
   "metadata": {},
   "source": [
    "### 3. High F1 score for FDR, Lincoln, and TR, but low for Adams, Washington (kind of), Jefferson"
   ]
  },
  {
   "cell_type": "markdown",
   "metadata": {},
   "source": [
    "### 4. Average precision: 72%"
   ]
  },
  {
   "cell_type": "markdown",
   "metadata": {},
   "source": [
    "### 5. Average recall: 62%"
   ]
  },
  {
   "cell_type": "markdown",
   "metadata": {},
   "source": [
    "### 6. Average F1-Score: 62%"
   ]
  },
  {
   "cell_type": "markdown",
   "metadata": {},
   "source": []
  },
  {
   "cell_type": "code",
   "execution_count": null,
   "metadata": {},
   "outputs": [],
   "source": []
  }
 ],
 "metadata": {
  "kernelspec": {
   "display_name": "myenv",
   "language": "python",
   "name": "python3"
  },
  "language_info": {
   "codemirror_mode": {
    "name": "ipython",
    "version": 3
   },
   "file_extension": ".py",
   "mimetype": "text/x-python",
   "name": "python",
   "nbconvert_exporter": "python",
   "pygments_lexer": "ipython3",
   "version": "3.11.11"
  }
 },
 "nbformat": 4,
 "nbformat_minor": 2
}
